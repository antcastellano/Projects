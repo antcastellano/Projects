{
 "cells": [
  {
   "cell_type": "markdown",
   "id": "5e02b868",
   "metadata": {},
   "source": [
    "# DTSC-670 Final Project\n",
    "\n",
    "## Name: Anthony Castellano"
   ]
  },
  {
   "cell_type": "markdown",
   "id": "3d511940",
   "metadata": {},
   "source": [
    "# Overview"
   ]
  },
  {
   "cell_type": "markdown",
   "id": "fbe8db21",
   "metadata": {},
   "source": [
    "## Problem Framing & Big Picture"
   ]
  },
  {
   "cell_type": "markdown",
   "id": "4b03295c",
   "metadata": {},
   "source": [
    "### The Problem"
   ]
  },
  {
   "cell_type": "markdown",
   "id": "b268db38",
   "metadata": {},
   "source": [
    "At this school disctrict we would like to predict the grades in the third term using historical data. We have information about many features of the students lives. Using this data and machine learning we can create models to predict the third term grades of students. This can be useful because if we can predict a students third term grade based on their past data we can supplement the students accordingly to increase the likelihood that the student achieves a higher third term grade than they would've otherwise."
   ]
  },
  {
   "cell_type": "markdown",
   "id": "83b33f32",
   "metadata": {},
   "source": [
    "### Frame of the Problem"
   ]
  },
  {
   "cell_type": "markdown",
   "id": "385f05f9",
   "metadata": {},
   "source": [
    "To predict third term grades we will use supervised machine learning techniques. This means that the machine learning techniques use labeled data to train data and recognize patterns. If the data was unlabeled then we would use unsupervised learning to detect anomalies and relationships between data. With supervised learning we can use classifcation or regression techniques to make predictions about the data. With classification modeling we can make predictions about what group or label instances of data fall into. With regression modeling we can use continous data to see where new instances would fall based on a feature of the data. We will be using batch learning for this model because we don't need to continously update the model when new information comes in. At the end of each school year the model can be updated on the data that was collected throughout the year. There are features of the data for each student that won't change as well. For example, if the mother or father pursued higher education, and if the student attended nursery school. With online learning data is collected and the model is updated continously and that won't be needed for this task because students don't leave and go into the school district often enough where that would be necessary and alot of the data would stay the same for each student throughout the year."
   ]
  },
  {
   "cell_type": "markdown",
   "id": "5b51b499",
   "metadata": {},
   "source": [
    "### Machine Learning with Business Problem"
   ]
  },
  {
   "cell_type": "markdown",
   "id": "c03279ea",
   "metadata": {},
   "source": [
    "We will be implementing a Regression machine learning task to predict the student's third term grades. We will use continous data to make predictions about where new instances will fall based on features of the data. With classification data we can make predictions about what groups the third term grades will fall into. With regression modeling we can use features of a student to predict what their third term grade will be. For this task we want to use regression modeling because we want to predict the students grade, not the group that the student's grade will fall in."
   ]
  },
  {
   "cell_type": "markdown",
   "id": "80b87bc0",
   "metadata": {},
   "source": [
    "### Metrics"
   ]
  },
  {
   "cell_type": "markdown",
   "id": "a3a2caf1",
   "metadata": {},
   "source": [
    "To measure the model's performance we will use cross validation and RMSE (root mean squared error) scores. Cross validation seperates the training data into groups/folds, uses one of the folds as the validation set and the rest of the folds to train the data. The process is repeated multiple times and the result is averaged to produce the models performance metric. RMSE represents the difference between the predicted values and the actual values to be predicted."
   ]
  },
  {
   "cell_type": "markdown",
   "id": "e529b54a",
   "metadata": {},
   "source": [
    "### Additional Information"
   ]
  },
  {
   "cell_type": "markdown",
   "id": "72aa9939",
   "metadata": {},
   "source": [
    "The values predicted by the regression model shouldn't be used as exact predictions of the student's third term grade. The values produced by the model should be used as a cornerstone to predict the thirs term grades for the student. These predictions should be used as a template to give a student the resources they need to succeed academically within the school district. Based on the features given to the model and what we predict the student's third term grade to be does not mean that a student with a predicted low third term grade will achieve that grade."
   ]
  },
  {
   "cell_type": "markdown",
   "id": "afe3acf4",
   "metadata": {},
   "source": [
    "## Get the Data"
   ]
  },
  {
   "cell_type": "markdown",
   "id": "6d585160",
   "metadata": {},
   "source": [
    "### Import Data"
   ]
  },
  {
   "cell_type": "code",
   "execution_count": 649,
   "id": "f226bbd1",
   "metadata": {},
   "outputs": [],
   "source": [
    "#Importing Pandas Library\n",
    "import pandas as pd\n",
    "\n",
    "#Importing data assuming the data is in the same file as the notebook\n",
    "data = pd.read_csv(\"student-mat.csv\")"
   ]
  },
  {
   "cell_type": "markdown",
   "id": "402836e2",
   "metadata": {},
   "source": [
    "### Size and Type of Data"
   ]
  },
  {
   "cell_type": "code",
   "execution_count": 650,
   "id": "6cc83ed3",
   "metadata": {},
   "outputs": [
    {
     "name": "stdout",
     "output_type": "stream",
     "text": [
      "\u001b[1mdata frame size: \u001b[0m 13825\n",
      "\u001b[1mdata frame data types:\u001b[0m\n",
      "school          object\n",
      "sex             object\n",
      "age            float64\n",
      "address         object\n",
      "famsize         object\n",
      "Pstatus         object\n",
      "Medu             int64\n",
      "Fedu             int64\n",
      "Mjob            object\n",
      "Fjob            object\n",
      "reason          object\n",
      "guardian        object\n",
      "traveltime       int64\n",
      "studytime        int64\n",
      "failures         int64\n",
      "schoolsup       object\n",
      "famsup          object\n",
      "paid            object\n",
      "activities      object\n",
      "nursery         object\n",
      "higher          object\n",
      "internet        object\n",
      "romantic        object\n",
      "famrel           int64\n",
      "freetime         int64\n",
      "goout            int64\n",
      "Dalc             int64\n",
      "Walc             int64\n",
      "health           int64\n",
      "absences_G1    float64\n",
      "absences_G2    float64\n",
      "absences_G3    float64\n",
      "G1               int64\n",
      "G2               int64\n",
      "G3               int64\n",
      "dtype: object\n",
      "\u001b[1mdata frame shape:\u001b[0m (395, 35)\n"
     ]
    }
   ],
   "source": [
    "#Size and Type of Data\n",
    "print('\\033[1m' +\"data frame size: \" + '\\033[0m', data.size)\n",
    "print('\\033[1m' + \"data frame data types:\" + '\\033[0m')\n",
    "print(data.dtypes)\n",
    "print('\\033[1m' + \"data frame shape:\" + '\\033[0m', data.shape)"
   ]
  },
  {
   "cell_type": "markdown",
   "id": "f2b3af83",
   "metadata": {},
   "source": [
    "The size of the data is 13825 with 35 columns and 395 rows. There are 17 features with an object data type, 4 features with a float data type, and 14 features with an integer data type. An object data type usually represents categorical data. Float data types represents decimals, and integer data types represent whole numbers."
   ]
  },
  {
   "cell_type": "markdown",
   "id": "a0094ead",
   "metadata": {},
   "source": [
    "### Features and Descriptions"
   ]
  },
  {
   "cell_type": "markdown",
   "id": "8736bcc4",
   "metadata": {},
   "source": [
    "**school**: student's school (\"GP\" = Gabriel Pereira, \"MS\" = Mousinho da Silveira)\\\n",
    "**sex**: student's sex (\"F\" = female, \"M\" = male)\\\n",
    "**age**: student's age (numeric value 15-22)\\\n",
    "**address**: student's home address type (\"U\" = urban, \"R\" = rural)\\\n",
    "**famsize**: family size (\"LE3\" = less than or equal to three, \"GT3\" = greater than three)\\\n",
    "**Pstatus**: parents cohabitation staus (\"T\" = living together, \"A\" = apart)\\\n",
    "**Medu**: mothers education (0 - none, 1 - primary education (4th grade), 2 = 5th to 9th\n",
    "grade, 3 = secondary education or 4 = higher education)\\\n",
    "**Fedu**: father's education (0 = none, 1 - primary education (4th grade), 2 = 5th to 9th\n",
    "grade, 3 = secondary education or 4 = higher education)\\\n",
    "**Mjob**: mother's job ( \"teacher\", \"health\" care related, civil \"services\" (e.g. administrative\n",
    "or police), \"at_home\" or \"other\")\\\n",
    "**Fjob**: fathers job  (\"teacher\", \"health\" care related, civil \"services\" (e.g. administrative or\n",
    "police), \"at_home\" or \"other\")\\\n",
    "**reason**: reason to choose school (close to \"home\", school \"reputation\", \"course\"\n",
    "preference or \"other\")\\\n",
    "**gaurdian**: student's gaurdian (\"mother\", \"father\" or \"other\")\\\n",
    "**traveltime**: home to school travel time  (1 = <15 min., 2 = 15 to 30 min., 3 = 30 min. to 1\n",
    "hour, or 4 = >1 hour)\\\n",
    "**studytime**: weekly study time (1 = <2 hours, 2 = 2 to 5 hours, 3 = 5 to 10 hours, or 4 = >10\n",
    "hours)\\\n",
    "**failures**: amount of past class failures (n if 1 <= n <= 4, else 4)\\\n",
    "**schoolsup**: educational support (yes or no)\\\n",
    "**famsup**: family educational support (yes or no)\\\n",
    "**paid**: paid classes within the course subjects, Math or Portuguese (yes or no)\\\n",
    "**activities**: extra-curricular activities (yes or no)\\\n",
    "**nursery**: attended nursery school (yes or no)\\\n",
    "**higher**: wants to pursue higher education (yes or no)\\\n",
    "**internet**: has internet access at home (yes or no)\\\n",
    "**romantic**: in a romantic relationship (yes or no)\\\n",
    "**famrel**: quality of family relationship (1 = very bad to 5 = excellent)\\\n",
    "**freetime**: free time after school (1 = very low to 5 = very high)\\\n",
    "**goout**: time going out with friends (1 = very low to 5 = very high)\\\n",
    "**Dalc**: workday alcohol consumption (1 = very low to 5 = very high)\\\n",
    "**Walc**: weekend alcohol consumption (1 = very low to 5 = very high)\\\n",
    "**health**: current health status (1 = very bad to 5 = excellent)\\\n",
    "**absences_G1**: number of absences for G1 term (numeric)\\\n",
    "**absences_G2**: number of absences for G2 term (numeric)\\\n",
    "**absences_G3**: number of absences for G3 term (numeric)\\\n",
    "**G1**: first term grade (0 to 20)\\\n",
    "**G2**: second term grade (0 to 20)\\\n",
    "**G3**: third term grade (0 to 20)"
   ]
  },
  {
   "cell_type": "markdown",
   "id": "4e7d1dea",
   "metadata": {},
   "source": [
    "The above shows each feature and what it's values represent."
   ]
  },
  {
   "cell_type": "markdown",
   "id": "9a17e18d",
   "metadata": {},
   "source": [
    "### Target  Attribute"
   ]
  },
  {
   "cell_type": "markdown",
   "id": "c3ba9c8b",
   "metadata": {},
   "source": [
    "The target attributes is 'G3' which represents the student's third term grade."
   ]
  },
  {
   "cell_type": "markdown",
   "id": "c35c7fc8",
   "metadata": {},
   "source": [
    "### Splitting Data"
   ]
  },
  {
   "cell_type": "code",
   "execution_count": 651,
   "id": "a9ff6465",
   "metadata": {},
   "outputs": [],
   "source": [
    "# Importing sklearn train_test_split function\n",
    "from sklearn.model_selection import train_test_split\n",
    "\n",
    "# Dropping G3 column for X train/test set\n",
    "X = data.drop(['G3'], axis = 1)\n",
    "\n",
    "# Creating G3 series for target labels\n",
    "y = pd.Series(data['G3'])\n",
    "\n",
    "# Create train/test set with 80% of instances for training and 20% for testing\n",
    "X_train, X_test, y_train, y_test = train_test_split(X, y, test_size = 0.2)"
   ]
  },
  {
   "cell_type": "markdown",
   "id": "587ad7cd",
   "metadata": {},
   "source": [
    "The data is split with 80% of the data going towards the training set and 20% going towards the test set. The training set contains all of the features except the 'G3' feature. The test set contains only the 'G3' feature."
   ]
  },
  {
   "cell_type": "markdown",
   "id": "f1961cd5",
   "metadata": {},
   "source": [
    "## Explore the Data"
   ]
  },
  {
   "cell_type": "markdown",
   "id": "ff9db521",
   "metadata": {},
   "source": [
    "### Training Set Attributes and Characteristics"
   ]
  },
  {
   "cell_type": "code",
   "execution_count": 652,
   "id": "8fcabe99",
   "metadata": {},
   "outputs": [
    {
     "name": "stdout",
     "output_type": "stream",
     "text": [
      "\u001b[1mX_Train Column Size and Data Types\u001b[0m\n",
      "<class 'pandas.core.frame.DataFrame'>\n",
      "Int64Index: 316 entries, 137 to 379\n",
      "Data columns (total 34 columns):\n",
      " #   Column       Non-Null Count  Dtype  \n",
      "---  ------       --------------  -----  \n",
      " 0   school       316 non-null    object \n",
      " 1   sex          316 non-null    object \n",
      " 2   age          307 non-null    float64\n",
      " 3   address      316 non-null    object \n",
      " 4   famsize      316 non-null    object \n",
      " 5   Pstatus      316 non-null    object \n",
      " 6   Medu         316 non-null    int64  \n",
      " 7   Fedu         316 non-null    int64  \n",
      " 8   Mjob         316 non-null    object \n",
      " 9   Fjob         316 non-null    object \n",
      " 10  reason       316 non-null    object \n",
      " 11  guardian     316 non-null    object \n",
      " 12  traveltime   316 non-null    int64  \n",
      " 13  studytime    316 non-null    int64  \n",
      " 14  failures     316 non-null    int64  \n",
      " 15  schoolsup    316 non-null    object \n",
      " 16  famsup       316 non-null    object \n",
      " 17  paid         316 non-null    object \n",
      " 18  activities   316 non-null    object \n",
      " 19  nursery      316 non-null    object \n",
      " 20  higher       316 non-null    object \n",
      " 21  internet     316 non-null    object \n",
      " 22  romantic     316 non-null    object \n",
      " 23  famrel       316 non-null    int64  \n",
      " 24  freetime     316 non-null    int64  \n",
      " 25  goout        316 non-null    int64  \n",
      " 26  Dalc         316 non-null    int64  \n",
      " 27  Walc         316 non-null    int64  \n",
      " 28  health       316 non-null    int64  \n",
      " 29  absences_G1  303 non-null    float64\n",
      " 30  absences_G2  303 non-null    float64\n",
      " 31  absences_G3  303 non-null    float64\n",
      " 32  G1           316 non-null    int64  \n",
      " 33  G2           316 non-null    int64  \n",
      "dtypes: float64(4), int64(13), object(17)\n",
      "memory usage: 86.4+ KB\n",
      "None\n",
      "--------------------------------------------------------------------------------\n",
      "\u001b[1mX_Train Numerical Column Descriptive Statistics\u001b[0m\n",
      "              age        Medu        Fedu  traveltime   studytime    failures  \\\n",
      "count  307.000000  316.000000  316.000000  316.000000  316.000000  316.000000   \n",
      "mean    16.716612    2.765823    2.534810    1.439873    2.053797    0.306962   \n",
      "std      1.252899    1.105069    1.087617    0.712379    0.869383    0.706488   \n",
      "min     15.000000    0.000000    0.000000    1.000000    1.000000    0.000000   \n",
      "25%     16.000000    2.000000    2.000000    1.000000    1.000000    0.000000   \n",
      "50%     17.000000    3.000000    3.000000    1.000000    2.000000    0.000000   \n",
      "75%     18.000000    4.000000    3.000000    2.000000    2.000000    0.000000   \n",
      "max     22.000000    4.000000    4.000000    4.000000    4.000000    3.000000   \n",
      "\n",
      "           famrel    freetime       goout        Dalc        Walc      health  \\\n",
      "count  316.000000  316.000000  316.000000  316.000000  316.000000  316.000000   \n",
      "mean     3.962025    3.243671    3.104430    1.506329    2.281646    3.566456   \n",
      "std      0.875675    1.017681    1.120592    0.924082    1.309227    1.420490   \n",
      "min      1.000000    1.000000    1.000000    1.000000    1.000000    1.000000   \n",
      "25%      4.000000    3.000000    2.000000    1.000000    1.000000    3.000000   \n",
      "50%      4.000000    3.000000    3.000000    1.000000    2.000000    4.000000   \n",
      "75%      5.000000    4.000000    4.000000    2.000000    3.000000    5.000000   \n",
      "max      5.000000    5.000000    5.000000    5.000000    5.000000    5.000000   \n",
      "\n",
      "       absences_G1  absences_G2  absences_G3          G1          G2  \n",
      "count   303.000000   303.000000   303.000000  316.000000  316.000000  \n",
      "mean      0.669967     0.669967     4.303630   10.943038   10.740506  \n",
      "std       1.315970     1.315970     5.639873    3.335701    3.801721  \n",
      "min       0.000000     0.000000     0.000000    3.000000    0.000000  \n",
      "25%       0.000000     0.000000     0.000000    8.000000    9.000000  \n",
      "50%       0.000000     0.000000     4.000000   11.000000   11.000000  \n",
      "75%       1.000000     1.000000     6.000000   13.000000   13.000000  \n",
      "max      12.000000    12.000000    51.000000   19.000000   19.000000  \n",
      "--------------------------------------------------------------------------------\n",
      "\u001b[1mX_Train Categorical Column Descriptive Statistics\u001b[0m\n",
      "       school  sex address famsize Pstatus   Mjob   Fjob  reason guardian  \\\n",
      "count     316  316     316     316     316    316    316     316      316   \n",
      "unique      2    2       2       2       2      5      5       4        3   \n",
      "top        GP    F       U     GT3       T  other  other  course   mother   \n",
      "freq      281  159     250     225     282    112    177     122      222   \n",
      "\n",
      "       schoolsup famsup paid activities nursery higher internet romantic  \n",
      "count        316    316  316        316     316    316      316      316  \n",
      "unique         2      2    2          2       2      2        2        2  \n",
      "top           no    yes   no         no     yes    yes      yes       no  \n",
      "freq         277    195  169        160     254    298      267      207  \n",
      "--------------------------------------------------------------------------------\n",
      "\u001b[1my_train Column Size and Data Types\u001b[0m\n",
      "<class 'pandas.core.series.Series'>\n",
      "Int64Index: 316 entries, 137 to 379\n",
      "Series name: G3\n",
      "Non-Null Count  Dtype\n",
      "--------------  -----\n",
      "316 non-null    int64\n",
      "dtypes: int64(1)\n",
      "memory usage: 4.9 KB\n",
      "None\n",
      "--------------------------------------------------------------------------------\n",
      "\u001b[1my_train Descriptive Statistics\u001b[0m\n",
      "count    316.000000\n",
      "mean      10.487342\n",
      "std        4.601225\n",
      "min        0.000000\n",
      "25%        9.000000\n",
      "50%       11.000000\n",
      "75%       13.250000\n",
      "max       20.000000\n",
      "Name: G3, dtype: float64\n"
     ]
    }
   ],
   "source": [
    "# Importing Numpy library\n",
    "import numpy as np\n",
    "\n",
    "# Printing out Column Size, Data Types, and Descriptive Statistics for X_train and y_train\n",
    "print('\\033[1m' + \"X_Train Column Size and Data Types\" + '\\033[0m')\n",
    "print(X_train.info())\n",
    "print(\"-\"*80)\n",
    "print('\\033[1m' + \"X_Train Numerical Column Descriptive Statistics\" + '\\033[0m')\n",
    "print(X_train.describe(include=[np.number]))\n",
    "print(\"-\"*80)\n",
    "print('\\033[1m' + \"X_Train Categorical Column Descriptive Statistics\" + '\\033[0m')\n",
    "print(X_train.describe(include=[object]))\n",
    "print(\"-\"*80)\n",
    "print('\\033[1m' + \"y_train Column Size and Data Types\" + '\\033[0m')\n",
    "print(y_train.info())\n",
    "print(\"-\"*80)\n",
    "print('\\033[1m' + \"y_train Descriptive Statistics\" + '\\033[0m')\n",
    "print(y_train.describe())"
   ]
  },
  {
   "cell_type": "markdown",
   "id": "d3bc7cd7",
   "metadata": {},
   "source": [
    "Looking at X_train's column size and data types shows us that the 'age', 'absences_G1', 'absences_G2', and 'absences_G3' contain null values that will have to be cleaned later.\n",
    "\n",
    "In the descriptive statistics we can see that the average student is 16 years old, most student's don;t fail their classes, an average amount of free time and time to go out with friends.\n",
    "\n",
    "Most student's only study less than 2 hours per week. There are more absences in the third term.\n",
    "\n",
    "Looking at the categorical features we can see that most students go to GP, are female, live in an urban setting, have more than 3 family members, have parents who live together, have their mother listed as their guardian, want to pursue a higher form of education, have internet access, and are in a romantic relationship. Most students do not have extra educational support, but they do have family educational support.\n",
    "\n",
    "Looking at the y_train size and data type shows us that there are no null values and that the values are float data type.\n",
    "\n",
    "The descriptive statitistics of y_train alludes that the grades are evenly distributed."
   ]
  },
  {
   "cell_type": "markdown",
   "id": "a25f1443",
   "metadata": {},
   "source": [
    "### Visualization 1"
   ]
  },
  {
   "cell_type": "code",
   "execution_count": 683,
   "id": "9747f678",
   "metadata": {},
   "outputs": [
    {
     "data": {
      "image/png": "[encoded data removed]",
      "text/plain": [
       "<Figure size 1200x1200 with 20 Axes>"
      ]
     },
     "metadata": {},
     "output_type": "display_data"
    }
   ],
   "source": [
    "# importing matplotlib\n",
    "import matplotlib.pyplot as plt\n",
    "\n",
    "# Inspriation for this visualization came from the Data Exploration video in Module 2\n",
    "\n",
    "# Plotting Histograms of Numeric X_train data\n",
    "X_train.hist(bins = 17, figsize=(12,12))\n",
    "plt.show()"
   ]
  },
  {
   "cell_type": "markdown",
   "id": "f5ed7631",
   "metadata": {},
   "source": [
    "Visualizing the numeric data as histograms shows us multiple things:\n",
    "\n",
    "1. The G1 and G2 grades look normally distributed.\n",
    "2. Most of the students live close to their school.\n",
    "3. There are more absences in G3.\n",
    "4. There are more instances of weekend alcohol consumption compared to workday.\n",
    "5. Most students don't fail their classes.\n",
    "6. Student's have a good relationship with their familes."
   ]
  },
  {
   "cell_type": "markdown",
   "id": "4228213f",
   "metadata": {},
   "source": [
    "### Visualization 2"
   ]
  },
  {
   "cell_type": "code",
   "execution_count": 684,
   "id": "6aaf7cc6",
   "metadata": {},
   "outputs": [
    {
     "data": {
      "image/png": "[encoded data removed]",
      "text/plain": [
       "<Figure size 640x480 with 1 Axes>"
      ]
     },
     "metadata": {},
     "output_type": "display_data"
    }
   ],
   "source": [
    "# inspiration for this visualization came from geeksforgeeks.org\n",
    "# https://www.geeksforgeeks.org/plotting-multiple-bar-charts-using-matplotlib-in-python/#\n",
    "\n",
    "# grouping mean values of X_train by study time\n",
    "numeric_cols = X_train.select_dtypes(include='number').columns\n",
    "avg_vals = X_train[numeric_cols].groupby('studytime').mean().reset_index()\n",
    "\n",
    "# plotting bar chart of G1 & G2 values\n",
    "plt.bar(avg_vals.index - .2, avg_vals['G1'], 0.4, color = 'blue', label = 'G1') \n",
    "plt.bar(avg_vals.index + .2, avg_vals['G2'], 0.4, color = 'red', label = 'G2') \n",
    "\n",
    "# configuring x-labels, y-labels, title, and legend of the chart\n",
    "plt.xticks(avg_vals.index, avg_vals['studytime']) \n",
    "plt.xlabel(\"Study Time\") \n",
    "plt.ylabel(\"Grades\") \n",
    "plt.title(\"Average G1 & G2 Scores Based on Study Time\") \n",
    "plt.legend() \n",
    "plt.show() "
   ]
  },
  {
   "cell_type": "markdown",
   "id": "8555a456",
   "metadata": {},
   "source": [
    "Looking at the average G1 and G2 scores with the student's study time shows us that a student who studys more will achieve a higher score but a student who studys more than 10 hours will get a lower score in G1 compared to G2 on average."
   ]
  },
  {
   "cell_type": "markdown",
   "id": "ab1ceabe",
   "metadata": {},
   "source": [
    "### Visualization 3"
   ]
  },
  {
   "cell_type": "code",
   "execution_count": 655,
   "id": "20896811",
   "metadata": {},
   "outputs": [
    {
     "data": {
      "text/plain": [
       "<Axes: title={'center': 'G1 Grades based on Absences and if Student had Internet Access'}, xlabel='absences_G1', ylabel='G1'>"
      ]
     },
     "execution_count": 655,
     "metadata": {},
     "output_type": "execute_result"
    },
    {
     "data": {
      "image/png": "[encoded data removed]",
      "text/plain": [
       "<Figure size 640x480 with 1 Axes>"
      ]
     },
     "metadata": {},
     "output_type": "display_data"
    }
   ],
   "source": [
    "# creating copy of X_train dataframe\n",
    "X_train_copy = X_train.copy()\n",
    "\n",
    "# color dictionary of yes/no to blue/red\n",
    "colors = {'yes': 'blue', 'no': 'red'}\n",
    "\n",
    "# mapping color dictionary to internet feature\n",
    "X_train_copy['color'] = X_train_copy['internet'].map(colors)\n",
    "\n",
    "#creating scatter plot of G1 grades based on absences and if the student had internet access at home\n",
    "X_train_copy.plot(kind=\"scatter\", x = \"absences_G1\", y = \"G1\", c = 'color', title = 'G1 Grades based on Absences and if Student had Internet Access')"
   ]
  },
  {
   "cell_type": "markdown",
   "id": "57f53971",
   "metadata": {},
   "source": [
    "This chart shows us that a student with a high amount of absences will have an average term grade and that a student's absence amount does not necessarily determine their grade for the term. A student could be absent for various reasons adn it does not reflect their inteligence."
   ]
  },
  {
   "cell_type": "markdown",
   "id": "f922b797",
   "metadata": {},
   "source": [
    "### Visualization 4"
   ]
  },
  {
   "cell_type": "code",
   "execution_count": 686,
   "id": "98a92aa0",
   "metadata": {
    "scrolled": false
   },
   "outputs": [
    {
     "data": {
      "image/png": "[encoded data removed]",
      "text/plain": [
       "<Figure size 1500x600 with 2 Axes>"
      ]
     },
     "metadata": {},
     "output_type": "display_data"
    }
   ],
   "source": [
    "# configuring fig, ax1, ax2 subplots\n",
    "fig, (ax1, ax2) = plt.subplots(1, 2, figsize = (15, 6))\n",
    "\n",
    "# grouping mean G1 values by higher education feature\n",
    "avg_vals1 = X_train.groupby('higher')['G1'].mean().reset_index()\n",
    "\n",
    "# configuring bar labels and colors\n",
    "bar_labels = ['yes', 'no']\n",
    "bar_colors = ['tab:blue', 'tab:red']\n",
    "\n",
    "# creating bar chart for G1 grades and higher education feature\n",
    "ax1.bar(avg_vals1['higher'], avg_vals1['G1'], label=bar_labels, color=bar_colors)\n",
    "\n",
    "# configuring y-label, x-label, legend, and title for G1 bar chart\n",
    "ax1.set_ylabel('Average G1 Grades')\n",
    "ax1.set_xlabel('Higher Learning')\n",
    "ax1.set_title('G1 Grades if Student wants to pursue Higher Learning')\n",
    "ax1.legend(title='Want to Pursue Higher Learning')\n",
    "\n",
    "# grouping mean G2 values by higher education feature\n",
    "avg_vals2 = X_train.groupby('higher')['G2'].mean().reset_index()\n",
    "\n",
    "# creating bar chart for G2 grades and higher education feature\n",
    "ax2.bar(avg_vals2['higher'], avg_vals2['G2'], label=bar_labels, color=bar_colors)\n",
    "\n",
    "# configuring y-label, x-label, legend, and title for G2 bar chart\n",
    "ax2.set_ylabel('Average G2 Grades')\n",
    "ax2.set_xlabel('Higher Learning')\n",
    "ax2.set_title('G2 Grades if Student wants to pursue Higher Learning')\n",
    "ax2.legend(title='Want to Pursue Higher Learning')\n",
    "\n",
    "# plotting bar charts\n",
    "plt.tight_layout()\n",
    "\n",
    "plt.show()"
   ]
  },
  {
   "cell_type": "markdown",
   "id": "099fce3b",
   "metadata": {},
   "source": [
    "This chart tells us that students who want to pursue a higher form of education will have higher term grades. This could be because a student who doesn't want to pursue a higher form of education does put in effort towards school or they do not have to care about their term grades which usually determine what school they can enroll into for their higher education."
   ]
  },
  {
   "cell_type": "markdown",
   "id": "2eef3e25",
   "metadata": {},
   "source": [
    "### Visualization 5"
   ]
  },
  {
   "cell_type": "code",
   "execution_count": 687,
   "id": "864f910d",
   "metadata": {},
   "outputs": [
    {
     "data": {
      "image/png": "[encoded data removed]",
      "text/plain": [
       "<Figure size 640x480 with 1 Axes>"
      ]
     },
     "metadata": {},
     "output_type": "display_data"
    }
   ],
   "source": [
    "# inspiration for this visualization came from matplotlib.org\n",
    "# https://matplotlib.org/stable/gallery/lines_bars_and_markers/categorical_variables.html\n",
    "\n",
    "# grouping mean values of X_train by Medu feature\n",
    "avg_vals2 = X_train[numeric_cols].groupby('Medu').mean().reset_index()\n",
    "\n",
    "# configuring subplots\n",
    "fig2, ax3 = plt.subplots()\n",
    "\n",
    "# plotting Medu values by G1 & G2\n",
    "ax3.plot(avg_vals2['Medu'], avg_vals2['G1'], label = 'G1')\n",
    "ax3.plot(avg_vals2['Medu'], avg_vals2['G2'], label = 'G2')\n",
    "\n",
    "# configuring y-label, x-label, legend, and title of chart \n",
    "ax3.set_ylabel('Average Grades')\n",
    "ax3.set_xlabel('Mother Higher Education')\n",
    "ax3.set_title('G1 & G2 Grades if Mothers Pursued Higher Learning')\n",
    "ax3.legend()\n",
    "\n",
    "# showing the plot\n",
    "plt.show()"
   ]
  },
  {
   "cell_type": "markdown",
   "id": "389a57e1",
   "metadata": {},
   "source": [
    "Since most students put their mother as their guardian, I thought that it would be interesting to see if a student's mother had any influence on a student's term grades because of the motehrs education level. We can see that student's with mothers who have no education have higher scores, but if we take that out of the scope then a student whose mother has a higher education has higher scores than students with mothers with lower foms of education. The students with mothers with no education having higher scores could be because these students have a different motivation for achieving higher scores than students with mothers with educations. The students with mothers that are educated could be influenced by their mothers. The mothers with higher forms of education most likely have a higher values towards education and could pass these values down to their children."
   ]
  },
  {
   "cell_type": "markdown",
   "id": "ebf4e360",
   "metadata": {},
   "source": [
    "### Correlations"
   ]
  },
  {
   "cell_type": "code",
   "execution_count": 658,
   "id": "2b823481",
   "metadata": {},
   "outputs": [
    {
     "data": {
      "text/html": [
       "<div>\n",
       "<style scoped>\n",
       "    .dataframe tbody tr th:only-of-type {\n",
       "        vertical-align: middle;\n",
       "    }\n",
       "\n",
       "    .dataframe tbody tr th {\n",
       "        vertical-align: top;\n",
       "    }\n",
       "\n",
       "    .dataframe thead th {\n",
       "        text-align: right;\n",
       "    }\n",
       "</style>\n",
       "<table border=\"1\" class=\"dataframe\">\n",
       "  <thead>\n",
       "    <tr style=\"text-align: right;\">\n",
       "      <th></th>\n",
       "      <th>age</th>\n",
       "      <th>Medu</th>\n",
       "      <th>Fedu</th>\n",
       "      <th>traveltime</th>\n",
       "      <th>studytime</th>\n",
       "      <th>failures</th>\n",
       "      <th>famrel</th>\n",
       "      <th>freetime</th>\n",
       "      <th>goout</th>\n",
       "      <th>Dalc</th>\n",
       "      <th>Walc</th>\n",
       "      <th>health</th>\n",
       "      <th>absences_G1</th>\n",
       "      <th>absences_G2</th>\n",
       "      <th>absences_G3</th>\n",
       "      <th>G1</th>\n",
       "      <th>G2</th>\n",
       "    </tr>\n",
       "  </thead>\n",
       "  <tbody>\n",
       "    <tr>\n",
       "      <th>age</th>\n",
       "      <td>1.000000</td>\n",
       "      <td>-0.197540</td>\n",
       "      <td>-0.171846</td>\n",
       "      <td>0.064728</td>\n",
       "      <td>0.029234</td>\n",
       "      <td>0.260136</td>\n",
       "      <td>0.044146</td>\n",
       "      <td>-0.039524</td>\n",
       "      <td>0.074992</td>\n",
       "      <td>0.123107</td>\n",
       "      <td>0.135065</td>\n",
       "      <td>-0.098593</td>\n",
       "      <td>0.199139</td>\n",
       "      <td>0.199139</td>\n",
       "      <td>0.241777</td>\n",
       "      <td>-0.065845</td>\n",
       "      <td>-0.108806</td>\n",
       "    </tr>\n",
       "    <tr>\n",
       "      <th>Medu</th>\n",
       "      <td>-0.197540</td>\n",
       "      <td>1.000000</td>\n",
       "      <td>0.601105</td>\n",
       "      <td>-0.179248</td>\n",
       "      <td>0.062720</td>\n",
       "      <td>-0.208537</td>\n",
       "      <td>0.017026</td>\n",
       "      <td>0.008558</td>\n",
       "      <td>0.058265</td>\n",
       "      <td>0.026326</td>\n",
       "      <td>-0.033261</td>\n",
       "      <td>-0.042636</td>\n",
       "      <td>0.066327</td>\n",
       "      <td>0.066327</td>\n",
       "      <td>0.072516</td>\n",
       "      <td>0.207368</td>\n",
       "      <td>0.222763</td>\n",
       "    </tr>\n",
       "    <tr>\n",
       "      <th>Fedu</th>\n",
       "      <td>-0.171846</td>\n",
       "      <td>0.601105</td>\n",
       "      <td>1.000000</td>\n",
       "      <td>-0.136600</td>\n",
       "      <td>-0.033882</td>\n",
       "      <td>-0.247380</td>\n",
       "      <td>0.038058</td>\n",
       "      <td>-0.034935</td>\n",
       "      <td>0.006124</td>\n",
       "      <td>-0.004958</td>\n",
       "      <td>-0.001333</td>\n",
       "      <td>0.016991</td>\n",
       "      <td>0.010195</td>\n",
       "      <td>0.010195</td>\n",
       "      <td>-0.005392</td>\n",
       "      <td>0.187806</td>\n",
       "      <td>0.164960</td>\n",
       "    </tr>\n",
       "    <tr>\n",
       "      <th>traveltime</th>\n",
       "      <td>0.064728</td>\n",
       "      <td>-0.179248</td>\n",
       "      <td>-0.136600</td>\n",
       "      <td>1.000000</td>\n",
       "      <td>-0.140848</td>\n",
       "      <td>0.121943</td>\n",
       "      <td>-0.054562</td>\n",
       "      <td>0.009326</td>\n",
       "      <td>0.041693</td>\n",
       "      <td>0.152487</td>\n",
       "      <td>0.162876</td>\n",
       "      <td>0.032196</td>\n",
       "      <td>0.042100</td>\n",
       "      <td>0.042100</td>\n",
       "      <td>-0.000316</td>\n",
       "      <td>-0.128361</td>\n",
       "      <td>-0.193330</td>\n",
       "    </tr>\n",
       "    <tr>\n",
       "      <th>studytime</th>\n",
       "      <td>0.029234</td>\n",
       "      <td>0.062720</td>\n",
       "      <td>-0.033882</td>\n",
       "      <td>-0.140848</td>\n",
       "      <td>1.000000</td>\n",
       "      <td>-0.151018</td>\n",
       "      <td>0.044392</td>\n",
       "      <td>-0.172741</td>\n",
       "      <td>-0.080733</td>\n",
       "      <td>-0.223688</td>\n",
       "      <td>-0.269951</td>\n",
       "      <td>-0.071026</td>\n",
       "      <td>-0.087612</td>\n",
       "      <td>-0.087612</td>\n",
       "      <td>-0.082178</td>\n",
       "      <td>0.164169</td>\n",
       "      <td>0.148312</td>\n",
       "    </tr>\n",
       "    <tr>\n",
       "      <th>failures</th>\n",
       "      <td>0.260136</td>\n",
       "      <td>-0.208537</td>\n",
       "      <td>-0.247380</td>\n",
       "      <td>0.121943</td>\n",
       "      <td>-0.151018</td>\n",
       "      <td>1.000000</td>\n",
       "      <td>-0.063201</td>\n",
       "      <td>0.103162</td>\n",
       "      <td>0.127798</td>\n",
       "      <td>0.145326</td>\n",
       "      <td>0.125893</td>\n",
       "      <td>0.060274</td>\n",
       "      <td>0.048493</td>\n",
       "      <td>0.048493</td>\n",
       "      <td>0.032857</td>\n",
       "      <td>-0.330677</td>\n",
       "      <td>-0.347295</td>\n",
       "    </tr>\n",
       "    <tr>\n",
       "      <th>famrel</th>\n",
       "      <td>0.044146</td>\n",
       "      <td>0.017026</td>\n",
       "      <td>0.038058</td>\n",
       "      <td>-0.054562</td>\n",
       "      <td>0.044392</td>\n",
       "      <td>-0.063201</td>\n",
       "      <td>1.000000</td>\n",
       "      <td>0.110162</td>\n",
       "      <td>0.065523</td>\n",
       "      <td>-0.105627</td>\n",
       "      <td>-0.137401</td>\n",
       "      <td>0.106674</td>\n",
       "      <td>-0.022714</td>\n",
       "      <td>-0.022714</td>\n",
       "      <td>-0.041628</td>\n",
       "      <td>0.007952</td>\n",
       "      <td>-0.022995</td>\n",
       "    </tr>\n",
       "    <tr>\n",
       "      <th>freetime</th>\n",
       "      <td>-0.039524</td>\n",
       "      <td>0.008558</td>\n",
       "      <td>-0.034935</td>\n",
       "      <td>0.009326</td>\n",
       "      <td>-0.172741</td>\n",
       "      <td>0.103162</td>\n",
       "      <td>0.110162</td>\n",
       "      <td>1.000000</td>\n",
       "      <td>0.289396</td>\n",
       "      <td>0.212713</td>\n",
       "      <td>0.184212</td>\n",
       "      <td>0.090878</td>\n",
       "      <td>-0.086919</td>\n",
       "      <td>-0.086919</td>\n",
       "      <td>-0.072943</td>\n",
       "      <td>0.011583</td>\n",
       "      <td>-0.013965</td>\n",
       "    </tr>\n",
       "    <tr>\n",
       "      <th>goout</th>\n",
       "      <td>0.074992</td>\n",
       "      <td>0.058265</td>\n",
       "      <td>0.006124</td>\n",
       "      <td>0.041693</td>\n",
       "      <td>-0.080733</td>\n",
       "      <td>0.127798</td>\n",
       "      <td>0.065523</td>\n",
       "      <td>0.289396</td>\n",
       "      <td>1.000000</td>\n",
       "      <td>0.295201</td>\n",
       "      <td>0.440788</td>\n",
       "      <td>-0.029303</td>\n",
       "      <td>0.008716</td>\n",
       "      <td>0.008716</td>\n",
       "      <td>0.023924</td>\n",
       "      <td>-0.161467</td>\n",
       "      <td>-0.166501</td>\n",
       "    </tr>\n",
       "    <tr>\n",
       "      <th>Dalc</th>\n",
       "      <td>0.123107</td>\n",
       "      <td>0.026326</td>\n",
       "      <td>-0.004958</td>\n",
       "      <td>0.152487</td>\n",
       "      <td>-0.223688</td>\n",
       "      <td>0.145326</td>\n",
       "      <td>-0.105627</td>\n",
       "      <td>0.212713</td>\n",
       "      <td>0.295201</td>\n",
       "      <td>1.000000</td>\n",
       "      <td>0.679450</td>\n",
       "      <td>0.051676</td>\n",
       "      <td>0.075813</td>\n",
       "      <td>0.075813</td>\n",
       "      <td>0.094153</td>\n",
       "      <td>-0.100812</td>\n",
       "      <td>-0.070015</td>\n",
       "    </tr>\n",
       "    <tr>\n",
       "      <th>Walc</th>\n",
       "      <td>0.135065</td>\n",
       "      <td>-0.033261</td>\n",
       "      <td>-0.001333</td>\n",
       "      <td>0.162876</td>\n",
       "      <td>-0.269951</td>\n",
       "      <td>0.125893</td>\n",
       "      <td>-0.137401</td>\n",
       "      <td>0.184212</td>\n",
       "      <td>0.440788</td>\n",
       "      <td>0.679450</td>\n",
       "      <td>1.000000</td>\n",
       "      <td>0.091471</td>\n",
       "      <td>0.100200</td>\n",
       "      <td>0.100200</td>\n",
       "      <td>0.129314</td>\n",
       "      <td>-0.116257</td>\n",
       "      <td>-0.089233</td>\n",
       "    </tr>\n",
       "    <tr>\n",
       "      <th>health</th>\n",
       "      <td>-0.098593</td>\n",
       "      <td>-0.042636</td>\n",
       "      <td>0.016991</td>\n",
       "      <td>0.032196</td>\n",
       "      <td>-0.071026</td>\n",
       "      <td>0.060274</td>\n",
       "      <td>0.106674</td>\n",
       "      <td>0.090878</td>\n",
       "      <td>-0.029303</td>\n",
       "      <td>0.051676</td>\n",
       "      <td>0.091471</td>\n",
       "      <td>1.000000</td>\n",
       "      <td>-0.050540</td>\n",
       "      <td>-0.050540</td>\n",
       "      <td>-0.071143</td>\n",
       "      <td>-0.069547</td>\n",
       "      <td>-0.107901</td>\n",
       "    </tr>\n",
       "    <tr>\n",
       "      <th>absences_G1</th>\n",
       "      <td>0.199139</td>\n",
       "      <td>0.066327</td>\n",
       "      <td>0.010195</td>\n",
       "      <td>0.042100</td>\n",
       "      <td>-0.087612</td>\n",
       "      <td>0.048493</td>\n",
       "      <td>-0.022714</td>\n",
       "      <td>-0.086919</td>\n",
       "      <td>0.008716</td>\n",
       "      <td>0.075813</td>\n",
       "      <td>0.100200</td>\n",
       "      <td>-0.050540</td>\n",
       "      <td>1.000000</td>\n",
       "      <td>1.000000</td>\n",
       "      <td>0.955808</td>\n",
       "      <td>-0.048955</td>\n",
       "      <td>-0.065888</td>\n",
       "    </tr>\n",
       "    <tr>\n",
       "      <th>absences_G2</th>\n",
       "      <td>0.199139</td>\n",
       "      <td>0.066327</td>\n",
       "      <td>0.010195</td>\n",
       "      <td>0.042100</td>\n",
       "      <td>-0.087612</td>\n",
       "      <td>0.048493</td>\n",
       "      <td>-0.022714</td>\n",
       "      <td>-0.086919</td>\n",
       "      <td>0.008716</td>\n",
       "      <td>0.075813</td>\n",
       "      <td>0.100200</td>\n",
       "      <td>-0.050540</td>\n",
       "      <td>1.000000</td>\n",
       "      <td>1.000000</td>\n",
       "      <td>0.955808</td>\n",
       "      <td>-0.048955</td>\n",
       "      <td>-0.065888</td>\n",
       "    </tr>\n",
       "    <tr>\n",
       "      <th>absences_G3</th>\n",
       "      <td>0.241777</td>\n",
       "      <td>0.072516</td>\n",
       "      <td>-0.005392</td>\n",
       "      <td>-0.000316</td>\n",
       "      <td>-0.082178</td>\n",
       "      <td>0.032857</td>\n",
       "      <td>-0.041628</td>\n",
       "      <td>-0.072943</td>\n",
       "      <td>0.023924</td>\n",
       "      <td>0.094153</td>\n",
       "      <td>0.129314</td>\n",
       "      <td>-0.071143</td>\n",
       "      <td>0.955808</td>\n",
       "      <td>0.955808</td>\n",
       "      <td>1.000000</td>\n",
       "      <td>-0.028431</td>\n",
       "      <td>-0.033681</td>\n",
       "    </tr>\n",
       "    <tr>\n",
       "      <th>G1</th>\n",
       "      <td>-0.065845</td>\n",
       "      <td>0.207368</td>\n",
       "      <td>0.187806</td>\n",
       "      <td>-0.128361</td>\n",
       "      <td>0.164169</td>\n",
       "      <td>-0.330677</td>\n",
       "      <td>0.007952</td>\n",
       "      <td>0.011583</td>\n",
       "      <td>-0.161467</td>\n",
       "      <td>-0.100812</td>\n",
       "      <td>-0.116257</td>\n",
       "      <td>-0.069547</td>\n",
       "      <td>-0.048955</td>\n",
       "      <td>-0.048955</td>\n",
       "      <td>-0.028431</td>\n",
       "      <td>1.000000</td>\n",
       "      <td>0.846967</td>\n",
       "    </tr>\n",
       "    <tr>\n",
       "      <th>G2</th>\n",
       "      <td>-0.108806</td>\n",
       "      <td>0.222763</td>\n",
       "      <td>0.164960</td>\n",
       "      <td>-0.193330</td>\n",
       "      <td>0.148312</td>\n",
       "      <td>-0.347295</td>\n",
       "      <td>-0.022995</td>\n",
       "      <td>-0.013965</td>\n",
       "      <td>-0.166501</td>\n",
       "      <td>-0.070015</td>\n",
       "      <td>-0.089233</td>\n",
       "      <td>-0.107901</td>\n",
       "      <td>-0.065888</td>\n",
       "      <td>-0.065888</td>\n",
       "      <td>-0.033681</td>\n",
       "      <td>0.846967</td>\n",
       "      <td>1.000000</td>\n",
       "    </tr>\n",
       "  </tbody>\n",
       "</table>\n",
       "</div>"
      ],
      "text/plain": [
       "                  age      Medu      Fedu  traveltime  studytime  failures  \\\n",
       "age          1.000000 -0.197540 -0.171846    0.064728   0.029234  0.260136   \n",
       "Medu        -0.197540  1.000000  0.601105   -0.179248   0.062720 -0.208537   \n",
       "Fedu        -0.171846  0.601105  1.000000   -0.136600  -0.033882 -0.247380   \n",
       "traveltime   0.064728 -0.179248 -0.136600    1.000000  -0.140848  0.121943   \n",
       "studytime    0.029234  0.062720 -0.033882   -0.140848   1.000000 -0.151018   \n",
       "failures     0.260136 -0.208537 -0.247380    0.121943  -0.151018  1.000000   \n",
       "famrel       0.044146  0.017026  0.038058   -0.054562   0.044392 -0.063201   \n",
       "freetime    -0.039524  0.008558 -0.034935    0.009326  -0.172741  0.103162   \n",
       "goout        0.074992  0.058265  0.006124    0.041693  -0.080733  0.127798   \n",
       "Dalc         0.123107  0.026326 -0.004958    0.152487  -0.223688  0.145326   \n",
       "Walc         0.135065 -0.033261 -0.001333    0.162876  -0.269951  0.125893   \n",
       "health      -0.098593 -0.042636  0.016991    0.032196  -0.071026  0.060274   \n",
       "absences_G1  0.199139  0.066327  0.010195    0.042100  -0.087612  0.048493   \n",
       "absences_G2  0.199139  0.066327  0.010195    0.042100  -0.087612  0.048493   \n",
       "absences_G3  0.241777  0.072516 -0.005392   -0.000316  -0.082178  0.032857   \n",
       "G1          -0.065845  0.207368  0.187806   -0.128361   0.164169 -0.330677   \n",
       "G2          -0.108806  0.222763  0.164960   -0.193330   0.148312 -0.347295   \n",
       "\n",
       "               famrel  freetime     goout      Dalc      Walc    health  \\\n",
       "age          0.044146 -0.039524  0.074992  0.123107  0.135065 -0.098593   \n",
       "Medu         0.017026  0.008558  0.058265  0.026326 -0.033261 -0.042636   \n",
       "Fedu         0.038058 -0.034935  0.006124 -0.004958 -0.001333  0.016991   \n",
       "traveltime  -0.054562  0.009326  0.041693  0.152487  0.162876  0.032196   \n",
       "studytime    0.044392 -0.172741 -0.080733 -0.223688 -0.269951 -0.071026   \n",
       "failures    -0.063201  0.103162  0.127798  0.145326  0.125893  0.060274   \n",
       "famrel       1.000000  0.110162  0.065523 -0.105627 -0.137401  0.106674   \n",
       "freetime     0.110162  1.000000  0.289396  0.212713  0.184212  0.090878   \n",
       "goout        0.065523  0.289396  1.000000  0.295201  0.440788 -0.029303   \n",
       "Dalc        -0.105627  0.212713  0.295201  1.000000  0.679450  0.051676   \n",
       "Walc        -0.137401  0.184212  0.440788  0.679450  1.000000  0.091471   \n",
       "health       0.106674  0.090878 -0.029303  0.051676  0.091471  1.000000   \n",
       "absences_G1 -0.022714 -0.086919  0.008716  0.075813  0.100200 -0.050540   \n",
       "absences_G2 -0.022714 -0.086919  0.008716  0.075813  0.100200 -0.050540   \n",
       "absences_G3 -0.041628 -0.072943  0.023924  0.094153  0.129314 -0.071143   \n",
       "G1           0.007952  0.011583 -0.161467 -0.100812 -0.116257 -0.069547   \n",
       "G2          -0.022995 -0.013965 -0.166501 -0.070015 -0.089233 -0.107901   \n",
       "\n",
       "             absences_G1  absences_G2  absences_G3        G1        G2  \n",
       "age             0.199139     0.199139     0.241777 -0.065845 -0.108806  \n",
       "Medu            0.066327     0.066327     0.072516  0.207368  0.222763  \n",
       "Fedu            0.010195     0.010195    -0.005392  0.187806  0.164960  \n",
       "traveltime      0.042100     0.042100    -0.000316 -0.128361 -0.193330  \n",
       "studytime      -0.087612    -0.087612    -0.082178  0.164169  0.148312  \n",
       "failures        0.048493     0.048493     0.032857 -0.330677 -0.347295  \n",
       "famrel         -0.022714    -0.022714    -0.041628  0.007952 -0.022995  \n",
       "freetime       -0.086919    -0.086919    -0.072943  0.011583 -0.013965  \n",
       "goout           0.008716     0.008716     0.023924 -0.161467 -0.166501  \n",
       "Dalc            0.075813     0.075813     0.094153 -0.100812 -0.070015  \n",
       "Walc            0.100200     0.100200     0.129314 -0.116257 -0.089233  \n",
       "health         -0.050540    -0.050540    -0.071143 -0.069547 -0.107901  \n",
       "absences_G1     1.000000     1.000000     0.955808 -0.048955 -0.065888  \n",
       "absences_G2     1.000000     1.000000     0.955808 -0.048955 -0.065888  \n",
       "absences_G3     0.955808     0.955808     1.000000 -0.028431 -0.033681  \n",
       "G1             -0.048955    -0.048955    -0.028431  1.000000  0.846967  \n",
       "G2             -0.065888    -0.065888    -0.033681  0.846967  1.000000  "
      ]
     },
     "execution_count": 658,
     "metadata": {},
     "output_type": "execute_result"
    }
   ],
   "source": [
    "# creating list of numeric features\n",
    "num_cols = ['age', 'Medu', 'Fedu', 'traveltime', 'studytime', 'failures', 'famrel', 'freetime', 'goout', 'Dalc', 'Walc', 'health',\n",
    "           'absences_G1', 'absences_G2', 'absences_G3', 'G1', 'G2']\n",
    "\n",
    "# creating correlation matrix of X_train's numeric features\n",
    "corr_matrix = X_train[num_cols].corr()\n",
    "corr_matrix"
   ]
  },
  {
   "cell_type": "code",
   "execution_count": 659,
   "id": "51686fc2",
   "metadata": {},
   "outputs": [
    {
     "name": "stdout",
     "output_type": "stream",
     "text": [
      "\u001b[1mG1 Correlations:\u001b[0m\n",
      "G1             1.000000\n",
      "G2             0.846967\n",
      "Medu           0.207368\n",
      "Fedu           0.187806\n",
      "studytime      0.164169\n",
      "freetime       0.011583\n",
      "famrel         0.007952\n",
      "absences_G3   -0.028431\n",
      "absences_G1   -0.048955\n",
      "absences_G2   -0.048955\n",
      "age           -0.065845\n",
      "health        -0.069547\n",
      "Dalc          -0.100812\n",
      "Walc          -0.116257\n",
      "traveltime    -0.128361\n",
      "goout         -0.161467\n",
      "failures      -0.330677\n",
      "Name: G1, dtype: float64\n",
      "\n",
      "\u001b[1mG2 Correlations:\u001b[0m\n",
      "G2             1.000000\n",
      "G1             0.846967\n",
      "Medu           0.222763\n",
      "Fedu           0.164960\n",
      "studytime      0.148312\n",
      "freetime      -0.013965\n",
      "famrel        -0.022995\n",
      "absences_G3   -0.033681\n",
      "absences_G2   -0.065888\n",
      "absences_G1   -0.065888\n",
      "Dalc          -0.070015\n",
      "Walc          -0.089233\n",
      "health        -0.107901\n",
      "age           -0.108806\n",
      "goout         -0.166501\n",
      "traveltime    -0.193330\n",
      "failures      -0.347295\n",
      "Name: G2, dtype: float64\n"
     ]
    }
   ],
   "source": [
    "# sort G1 & G2 correlations by ascending values\n",
    "g1_corr = corr_matrix['G1'].sort_values(ascending =False)\n",
    "g2_corr = corr_matrix['G2'].sort_values(ascending =False)\n",
    "\n",
    "# printing out correlations\n",
    "print('\\033[1m' + \"G1 Correlations:\" + '\\033[0m')\n",
    "print(g1_corr)\n",
    "print()\n",
    "print('\\033[1m' + \"G2 Correlations:\" + '\\033[0m')\n",
    "print(g2_corr)"
   ]
  },
  {
   "cell_type": "markdown",
   "id": "007ba584",
   "metadata": {},
   "source": [
    "A student's previous term grades have the strongest correlations between all of the features. With this knowledge I decided to see how each feature correlates to each terms grade. While the the correlations are not strong, we can see that a mother's and father's education level, studytime, and amount of failures have some correlation to a student's term grade."
   ]
  },
  {
   "cell_type": "markdown",
   "id": "7968fe89",
   "metadata": {},
   "source": [
    "## Prepare the Data"
   ]
  },
  {
   "cell_type": "markdown",
   "id": "06212226",
   "metadata": {},
   "source": [
    "### Feature Selection"
   ]
  },
  {
   "cell_type": "code",
   "execution_count": 660,
   "id": "ea584528",
   "metadata": {},
   "outputs": [
    {
     "data": {
      "text/html": [
       "<div>\n",
       "<style scoped>\n",
       "    .dataframe tbody tr th:only-of-type {\n",
       "        vertical-align: middle;\n",
       "    }\n",
       "\n",
       "    .dataframe tbody tr th {\n",
       "        vertical-align: top;\n",
       "    }\n",
       "\n",
       "    .dataframe thead th {\n",
       "        text-align: right;\n",
       "    }\n",
       "</style>\n",
       "<table border=\"1\" class=\"dataframe\">\n",
       "  <thead>\n",
       "    <tr style=\"text-align: right;\">\n",
       "      <th></th>\n",
       "      <th>G1</th>\n",
       "      <th>G2</th>\n",
       "      <th>Medu</th>\n",
       "      <th>Fedu</th>\n",
       "      <th>studytime</th>\n",
       "      <th>goout</th>\n",
       "      <th>failures</th>\n",
       "      <th>absences_G1</th>\n",
       "      <th>absences_G2</th>\n",
       "      <th>absences_G3</th>\n",
       "      <th>school</th>\n",
       "      <th>activities</th>\n",
       "      <th>internet</th>\n",
       "      <th>Pstatus</th>\n",
       "      <th>schoolsup</th>\n",
       "      <th>famsup</th>\n",
       "    </tr>\n",
       "  </thead>\n",
       "  <tbody>\n",
       "    <tr>\n",
       "      <th>0</th>\n",
       "      <td>4</td>\n",
       "      <td>0</td>\n",
       "      <td>3</td>\n",
       "      <td>3</td>\n",
       "      <td>1</td>\n",
       "      <td>2</td>\n",
       "      <td>2</td>\n",
       "      <td>0.0</td>\n",
       "      <td>0.0</td>\n",
       "      <td>0.0</td>\n",
       "      <td>GP</td>\n",
       "      <td>yes</td>\n",
       "      <td>yes</td>\n",
       "      <td>A</td>\n",
       "      <td>no</td>\n",
       "      <td>yes</td>\n",
       "    </tr>\n",
       "    <tr>\n",
       "      <th>1</th>\n",
       "      <td>10</td>\n",
       "      <td>10</td>\n",
       "      <td>4</td>\n",
       "      <td>3</td>\n",
       "      <td>2</td>\n",
       "      <td>3</td>\n",
       "      <td>0</td>\n",
       "      <td>0.0</td>\n",
       "      <td>0.0</td>\n",
       "      <td>2.0</td>\n",
       "      <td>GP</td>\n",
       "      <td>no</td>\n",
       "      <td>yes</td>\n",
       "      <td>T</td>\n",
       "      <td>no</td>\n",
       "      <td>yes</td>\n",
       "    </tr>\n",
       "    <tr>\n",
       "      <th>2</th>\n",
       "      <td>10</td>\n",
       "      <td>12</td>\n",
       "      <td>2</td>\n",
       "      <td>3</td>\n",
       "      <td>1</td>\n",
       "      <td>2</td>\n",
       "      <td>0</td>\n",
       "      <td>0.0</td>\n",
       "      <td>0.0</td>\n",
       "      <td>2.0</td>\n",
       "      <td>GP</td>\n",
       "      <td>yes</td>\n",
       "      <td>yes</td>\n",
       "      <td>T</td>\n",
       "      <td>yes</td>\n",
       "      <td>yes</td>\n",
       "    </tr>\n",
       "    <tr>\n",
       "      <th>3</th>\n",
       "      <td>9</td>\n",
       "      <td>9</td>\n",
       "      <td>2</td>\n",
       "      <td>1</td>\n",
       "      <td>2</td>\n",
       "      <td>2</td>\n",
       "      <td>0</td>\n",
       "      <td>1.0</td>\n",
       "      <td>1.0</td>\n",
       "      <td>6.0</td>\n",
       "      <td>GP</td>\n",
       "      <td>yes</td>\n",
       "      <td>yes</td>\n",
       "      <td>T</td>\n",
       "      <td>no</td>\n",
       "      <td>no</td>\n",
       "    </tr>\n",
       "    <tr>\n",
       "      <th>4</th>\n",
       "      <td>8</td>\n",
       "      <td>7</td>\n",
       "      <td>2</td>\n",
       "      <td>2</td>\n",
       "      <td>2</td>\n",
       "      <td>4</td>\n",
       "      <td>0</td>\n",
       "      <td>0.0</td>\n",
       "      <td>0.0</td>\n",
       "      <td>0.0</td>\n",
       "      <td>GP</td>\n",
       "      <td>no</td>\n",
       "      <td>yes</td>\n",
       "      <td>T</td>\n",
       "      <td>no</td>\n",
       "      <td>no</td>\n",
       "    </tr>\n",
       "    <tr>\n",
       "      <th>...</th>\n",
       "      <td>...</td>\n",
       "      <td>...</td>\n",
       "      <td>...</td>\n",
       "      <td>...</td>\n",
       "      <td>...</td>\n",
       "      <td>...</td>\n",
       "      <td>...</td>\n",
       "      <td>...</td>\n",
       "      <td>...</td>\n",
       "      <td>...</td>\n",
       "      <td>...</td>\n",
       "      <td>...</td>\n",
       "      <td>...</td>\n",
       "      <td>...</td>\n",
       "      <td>...</td>\n",
       "      <td>...</td>\n",
       "    </tr>\n",
       "    <tr>\n",
       "      <th>311</th>\n",
       "      <td>7</td>\n",
       "      <td>10</td>\n",
       "      <td>1</td>\n",
       "      <td>1</td>\n",
       "      <td>4</td>\n",
       "      <td>2</td>\n",
       "      <td>1</td>\n",
       "      <td>0.0</td>\n",
       "      <td>0.0</td>\n",
       "      <td>2.0</td>\n",
       "      <td>GP</td>\n",
       "      <td>yes</td>\n",
       "      <td>yes</td>\n",
       "      <td>T</td>\n",
       "      <td>yes</td>\n",
       "      <td>yes</td>\n",
       "    </tr>\n",
       "    <tr>\n",
       "      <th>312</th>\n",
       "      <td>12</td>\n",
       "      <td>12</td>\n",
       "      <td>4</td>\n",
       "      <td>3</td>\n",
       "      <td>2</td>\n",
       "      <td>5</td>\n",
       "      <td>0</td>\n",
       "      <td>2.0</td>\n",
       "      <td>2.0</td>\n",
       "      <td>10.0</td>\n",
       "      <td>GP</td>\n",
       "      <td>yes</td>\n",
       "      <td>yes</td>\n",
       "      <td>T</td>\n",
       "      <td>no</td>\n",
       "      <td>no</td>\n",
       "    </tr>\n",
       "    <tr>\n",
       "      <th>313</th>\n",
       "      <td>5</td>\n",
       "      <td>0</td>\n",
       "      <td>3</td>\n",
       "      <td>2</td>\n",
       "      <td>1</td>\n",
       "      <td>4</td>\n",
       "      <td>3</td>\n",
       "      <td>0.0</td>\n",
       "      <td>0.0</td>\n",
       "      <td>0.0</td>\n",
       "      <td>GP</td>\n",
       "      <td>no</td>\n",
       "      <td>yes</td>\n",
       "      <td>T</td>\n",
       "      <td>no</td>\n",
       "      <td>yes</td>\n",
       "    </tr>\n",
       "    <tr>\n",
       "      <th>314</th>\n",
       "      <td>7</td>\n",
       "      <td>7</td>\n",
       "      <td>3</td>\n",
       "      <td>1</td>\n",
       "      <td>2</td>\n",
       "      <td>3</td>\n",
       "      <td>3</td>\n",
       "      <td>0.0</td>\n",
       "      <td>0.0</td>\n",
       "      <td>5.0</td>\n",
       "      <td>GP</td>\n",
       "      <td>no</td>\n",
       "      <td>yes</td>\n",
       "      <td>A</td>\n",
       "      <td>no</td>\n",
       "      <td>yes</td>\n",
       "    </tr>\n",
       "    <tr>\n",
       "      <th>315</th>\n",
       "      <td>10</td>\n",
       "      <td>10</td>\n",
       "      <td>3</td>\n",
       "      <td>1</td>\n",
       "      <td>2</td>\n",
       "      <td>4</td>\n",
       "      <td>0</td>\n",
       "      <td>2.0</td>\n",
       "      <td>2.0</td>\n",
       "      <td>13.0</td>\n",
       "      <td>MS</td>\n",
       "      <td>yes</td>\n",
       "      <td>yes</td>\n",
       "      <td>T</td>\n",
       "      <td>no</td>\n",
       "      <td>yes</td>\n",
       "    </tr>\n",
       "  </tbody>\n",
       "</table>\n",
       "<p>316 rows × 16 columns</p>\n",
       "</div>"
      ],
      "text/plain": [
       "     G1  G2  Medu  Fedu  studytime  goout  failures  absences_G1  absences_G2  \\\n",
       "0     4   0     3     3          1      2         2          0.0          0.0   \n",
       "1    10  10     4     3          2      3         0          0.0          0.0   \n",
       "2    10  12     2     3          1      2         0          0.0          0.0   \n",
       "3     9   9     2     1          2      2         0          1.0          1.0   \n",
       "4     8   7     2     2          2      4         0          0.0          0.0   \n",
       "..   ..  ..   ...   ...        ...    ...       ...          ...          ...   \n",
       "311   7  10     1     1          4      2         1          0.0          0.0   \n",
       "312  12  12     4     3          2      5         0          2.0          2.0   \n",
       "313   5   0     3     2          1      4         3          0.0          0.0   \n",
       "314   7   7     3     1          2      3         3          0.0          0.0   \n",
       "315  10  10     3     1          2      4         0          2.0          2.0   \n",
       "\n",
       "     absences_G3 school activities internet Pstatus schoolsup famsup  \n",
       "0            0.0     GP        yes      yes       A        no    yes  \n",
       "1            2.0     GP         no      yes       T        no    yes  \n",
       "2            2.0     GP        yes      yes       T       yes    yes  \n",
       "3            6.0     GP        yes      yes       T        no     no  \n",
       "4            0.0     GP         no      yes       T        no     no  \n",
       "..           ...    ...        ...      ...     ...       ...    ...  \n",
       "311          2.0     GP        yes      yes       T       yes    yes  \n",
       "312         10.0     GP        yes      yes       T        no     no  \n",
       "313          0.0     GP         no      yes       T        no    yes  \n",
       "314          5.0     GP         no      yes       A        no    yes  \n",
       "315         13.0     MS        yes      yes       T        no    yes  \n",
       "\n",
       "[316 rows x 16 columns]"
      ]
     },
     "execution_count": 660,
     "metadata": {},
     "output_type": "execute_result"
    }
   ],
   "source": [
    "#Function/custom transformer to perform feature selection\n",
    "\n",
    "# global list of absences features column names\n",
    "ab_feat = ['absences_G1', 'absences_G2', 'absences_G3']\n",
    "\n",
    "# global list for G1/G2\n",
    "g = ['G1', 'G2']\n",
    "\n",
    "def getFeat(c, cr):\n",
    "    # create emptylist\n",
    "    f = []\n",
    "    \n",
    "    # make negative version of the criteria\n",
    "    cr_neg = cr *-1\n",
    "    \n",
    "    # go through each correlation matrix and add the feature name that meets the criteria to the empty list\n",
    "    for i in range(len(c)):\n",
    "        if c.iloc[i:i+1][0] > cr or c.iloc[i:i+1][0] < cr_neg:\n",
    "            f.append(c[i:i+1].index[0])\n",
    "            \n",
    "    # return the list of feature names\n",
    "    return f\n",
    "\n",
    "def featureSelector(corr1, corr2, cat_feat, dataframe, crit):\n",
    "    # create empty dataframe and list\n",
    "    new_df = pd.DataFrame()\n",
    "    same_feats = []\n",
    "    \n",
    "    # function to get the features of a specific correlation criteria\n",
    "    f1 = getFeat(corr1, crit)\n",
    "    f2 = getFeat(corr2, crit)\n",
    "    \n",
    "    # select only the features that are the same for both correlations and meet the criteria\n",
    "    for i in range(len(f1)):\n",
    "        for j in range(len(f2)):\n",
    "            if f1[i] == f2[j]:\n",
    "                same_feats.append(f1[i])\n",
    "    \n",
    "    # add the absence features if they are not already selected\n",
    "    same_feat_set = set(same_feats)\n",
    "    for k in ab_feat:\n",
    "        if k not in same_feat_set:\n",
    "            same_feats.append(k)\n",
    "            \n",
    "    # add the catergorical features that I felt were significant from the descriptive stats\n",
    "    same_feats.extend(cat_feat)\n",
    "    selected_cols = dataframe[same_feats]\n",
    "    \n",
    "    # reset the new dataframes index and return the dataframe\n",
    "    new_df = selected_cols.copy().reset_index(drop = True)\n",
    "    return new_df\n",
    "\n",
    "# list of categorical features I felt were significant from the descriptive stats\n",
    "cat_feats = ['school', 'activities', 'internet', 'Pstatus', 'schoolsup', 'famsup']\n",
    "\n",
    "# create new dataframe using custom function that takes in G1/G2 correlation matrix, categorical features, X_train dataframe,\n",
    "# and a correlation criteria\n",
    "X_train_new = featureSelector(g1_corr, g2_corr, cat_feats, X_train, .13)\n",
    "\n",
    "# create list of the features of the new dataframe inorder to create testing data\n",
    "col_names = X_train_new.columns.tolist()\n",
    "num_col_names_df = X_train_new.drop(columns = cat_feats, axis = 1)\n",
    "num_col_names = num_col_names_df.columns.tolist()\n",
    "\n",
    "# function to get the indexes of a dataframe based on a list\n",
    "def getIndex(l, df):\n",
    "    o = []\n",
    "    for name in l:\n",
    "        if name in df.columns:\n",
    "            o.append(df.columns.get_loc(name))\n",
    "    return o\n",
    "\n",
    "# displaying the prepared data based on the feature selection\n",
    "X_train_new"
   ]
  },
  {
   "cell_type": "markdown",
   "id": "99f55720",
   "metadata": {},
   "source": [
    "The function above selects features to include in the training dataset based on how they correlate to the 'G1' and 'G2' features. The procedure of the feature selcting function are as follow.\n",
    "\n",
    "Feature Selection Function:\n",
    "1. The feature selction function \"featureSelector()\" is called and takes the arranged g1 correlation matrix, arranged g2 correlation matrix, a list of categorical features to include, the original training dataset, and a criteria number to select the features by.\n",
    "2. An empty data frame and list are created. The list will store features that are the same in both arranged correlation matrices that meet the correlation criteria.\n",
    "3. A function is ran to get the features that meet the criteria for both matrices. The function is called \"getFeat()\"\n",
    "    1. The \"getFeat()\" function takes a correlation matrix and the correlation criteria in a parameters.\n",
    "    2. An empty list is created to store the features is created and a negative version of the criteria parameter is created.\n",
    "    3. A loop goes through each correlation matrix and if a feature has a correlation greater than the criteria or less than the negative criteria then it is put in the list.\n",
    "    4. The list is returned.\n",
    "4. After recieving both lists for each matrix, then the lists are compared and the features that are in both lists are added to the original empty list that was made in step 1.\n",
    "5. The absence features are added to the same feature list if they are not already in the list.\n",
    "6. The features that are in the categorical feature list are added to the same feature list.\n",
    "7. The index of the dataframe is reset and the new dataframe is returned.\n",
    "\n",
    "In the above code two lists that contain the absence features and G1/G2 features are stored respectively.\n",
    "\n",
    "Another function called \"getIndex()\" was made to get the index of a feature in a dataframe based on a list input.\n"
   ]
  },
  {
   "cell_type": "markdown",
   "id": "d2debf86",
   "metadata": {},
   "source": [
    "### Data Preperation with Custom Transformer"
   ]
  },
  {
   "cell_type": "code",
   "execution_count": 661,
   "id": "4ae5a739",
   "metadata": {},
   "outputs": [],
   "source": [
    "# import BaseEstimator and TransformerMixin from sklearn\n",
    "from sklearn.base import BaseEstimator, TransformerMixin\n",
    "\n",
    "# create Custom Transformer class called removeGCol\n",
    "class removeGCol(BaseEstimator, TransformerMixin):\n",
    "    \n",
    "    # intialize dropCol, acol_index, and gcol_index variables\n",
    "    def __init__(self, col_n, dropCol = True):\n",
    "        self.dropCol = dropCol\n",
    "        self.col_n = col_n\n",
    "    \n",
    "    # define fit function\n",
    "    def fit(self, X, y = None):\n",
    "        return self\n",
    "    \n",
    "    # define transform function\n",
    "    def transform(self, X):\n",
    "        # make dataframe from numpy array values\n",
    "        X = pd.DataFrame(X, columns = self.col_n)\n",
    "        \n",
    "        # get index of absence and G1/G2 columns\n",
    "        acol_index = getIndex(ab_feat, X)\n",
    "        gcol_index = getIndex(g, X)\n",
    "        \n",
    "        # select absence columns\n",
    "        abs_cols = X.iloc[:, acol_index]\n",
    "        \n",
    "        # sum absence columns\n",
    "        X['absences_sum'] = abs_cols.sum(axis=1)\n",
    "        \n",
    "        # get names of absence columns\n",
    "        abs_col_names = X.columns[acol_index]\n",
    "        \n",
    "        # drop absence columns\n",
    "        X.drop(columns = abs_col_names, inplace = True)\n",
    "        \n",
    "        # condition statement for if dropCol variable is true\n",
    "        if self.dropCol:\n",
    "            \n",
    "            # get G1/G2 column names\n",
    "            gcol_names = X.columns[gcol_index]\n",
    "            \n",
    "            # drop G1/G2 columns\n",
    "            X.drop(columns = gcol_names, inplace = True)\n",
    "            \n",
    "            # return dataframe\n",
    "            return X\n",
    "        # returns dataframe if dropCol variable is false\n",
    "        else:\n",
    "            return X\n",
    "    "
   ]
  },
  {
   "cell_type": "markdown",
   "id": "1e5b444d",
   "metadata": {},
   "source": [
    "The custom transformer above creates a new column in the dataset that is a sum of the absence values for each term and stores in in a column called \"absences_sum\". The custom transformer has a parameter that is set to \"True\" will drop the \"G1\" and \"G2\" columns."
   ]
  },
  {
   "cell_type": "code",
   "execution_count": 662,
   "id": "d6d0b2bc",
   "metadata": {},
   "outputs": [],
   "source": [
    "# import make_pipeline, StandardScaler, SimpleImputer, OneHotEncoder, and ColumnTransformer sklearn functions\n",
    "from sklearn.pipeline import make_pipeline\n",
    "from sklearn.preprocessing import StandardScaler\n",
    "from sklearn.compose import ColumnTransformer\n",
    "from sklearn.impute import SimpleImputer\n",
    "from sklearn.preprocessing import OneHotEncoder\n",
    "\n",
    "# numeric column attributes with G1/G2\n",
    "num_attributes1 = num_col_names\n",
    "\n",
    "# numeric column attributes without G1/G2\n",
    "num_attributes2 = num_attributes1.copy()\n",
    "for v in g:\n",
    "    if v in num_attributes2:\n",
    "       num_attributes2.remove(v) "
   ]
  },
  {
   "cell_type": "markdown",
   "id": "597dc736",
   "metadata": {},
   "source": [
    "### Pipeline Creation"
   ]
  },
  {
   "cell_type": "markdown",
   "id": "1c7b8181",
   "metadata": {},
   "source": [
    "### Filling in Missing Values"
   ]
  },
  {
   "cell_type": "code",
   "execution_count": 663,
   "id": "7e178e08",
   "metadata": {},
   "outputs": [],
   "source": [
    "# first pipeline with no column drop that fills NAs, scales the features, and runs custom transformer\n",
    "num_pipeline1 = make_pipeline(\n",
    "        SimpleImputer(strategy = 'median'),\n",
    "        removeGCol(num_attributes1, dropCol = False),\n",
    "        StandardScaler())"
   ]
  },
  {
   "cell_type": "markdown",
   "id": "5af6c89e",
   "metadata": {},
   "source": [
    "### Feature Scaling"
   ]
  },
  {
   "cell_type": "code",
   "execution_count": 664,
   "id": "b235be8c",
   "metadata": {},
   "outputs": [],
   "source": [
    "# second pipeline with column drop that fills NAs, scales the features, and runs custom transformer\n",
    "num_pipeline2 = make_pipeline(\n",
    "        SimpleImputer(strategy = 'median'),\n",
    "        removeGCol(num_attributes2, dropCol = True),\n",
    "        StandardScaler())"
   ]
  },
  {
   "cell_type": "markdown",
   "id": "7ae0fa42",
   "metadata": {},
   "source": [
    "### One-Hot Encoding"
   ]
  },
  {
   "cell_type": "code",
   "execution_count": 665,
   "id": "40d77dd7",
   "metadata": {},
   "outputs": [],
   "source": [
    "# categorical feature pipeline\n",
    "cat_pipeline = make_pipeline(\n",
    "    OneHotEncoder(drop='first'))"
   ]
  },
  {
   "cell_type": "markdown",
   "id": "284861a7",
   "metadata": {},
   "source": [
    "### Column Transformer"
   ]
  },
  {
   "cell_type": "code",
   "execution_count": 666,
   "id": "dd6f8255",
   "metadata": {},
   "outputs": [],
   "source": [
    "# column transformer for nondropped column training set\n",
    "preprocessing1 = ColumnTransformer([\n",
    "    (\"num\", num_pipeline1, num_attributes1),\n",
    "    (\"cat\", cat_pipeline, cat_feats)\n",
    "])\n",
    "\n",
    "# column transformer for dropped column training set\n",
    "preprocessing2 = ColumnTransformer([\n",
    "    (\"num\", num_pipeline2, num_attributes2),\n",
    "    (\"cat\", cat_pipeline, cat_feats)\n",
    "])"
   ]
  },
  {
   "cell_type": "markdown",
   "id": "cf33b400",
   "metadata": {},
   "source": [
    "### Transforming Training Data"
   ]
  },
  {
   "cell_type": "code",
   "execution_count": 682,
   "id": "0c2bcd01",
   "metadata": {},
   "outputs": [
    {
     "name": "stdout",
     "output_type": "stream",
     "text": [
      "Shape of Dataset Including the Columns: (316, 14)\n",
      "Shape of Dataset Removing the Columns: (316, 12)\n"
     ]
    }
   ],
   "source": [
    "# fitting both column transformers to the training data\n",
    "X_train_prep1 = preprocessing1.fit_transform(X_train_new)\n",
    "X_train_prep2 = preprocessing2.fit_transform(X_train_new)\n",
    "\n",
    "# printing shapes of the transformed training data\n",
    "print(\"Shape of Dataset Including the Columns:\" ,X_train_prep1.shape)\n",
    "print(\"Shape of Dataset Removing the Columns:\" ,X_train_prep2.shape)"
   ]
  },
  {
   "cell_type": "markdown",
   "id": "580c5685",
   "metadata": {},
   "source": [
    "Two dynamic lists are created based on the list returned from the feature selection function with the categorical features removed. The first list called \"num_attributes1\" has all of the numerical attributes in the new X_train dataset. The second list called \"num_attributes2\" has the same features as \"num_attributes1\", but the \"G1\" and \"G2\" features are removed.\n",
    "\n",
    "Two dataframes will be created, one with the \"G1\" and \"G2\" features, and the other without those features.\n",
    "\n",
    "Two pipelines are made to accomodate the creation of both datasets since they have different amount of attributes.\n",
    "\n",
    "Both pipelines have a SimpleImputer which replaces any NA values with the median value of the column that contains the NA. They contain a Standard Scalar which scales the numeric data.\n",
    "\n",
    "A categorical pipeline was created that contains a OneHotEncoder that one-hot encodes the categorical features and drops the original column.\n",
    "\n",
    "Along with the two seperate pipelines there are two Column Transporters. These column transporters preprocess the data with their respective pipeline for each dataset.\n",
    "\n",
    "Two seperate training sets are transformed using the column transformers.\n",
    "\n",
    "Now there are two prepped training sets, one that contains the \"G1\" and \"G2\" features and one that does not."
   ]
  },
  {
   "cell_type": "markdown",
   "id": "38fa145e",
   "metadata": {},
   "source": [
    "## Shortlisting Promising Models"
   ]
  },
  {
   "cell_type": "markdown",
   "id": "c59eac8f",
   "metadata": {},
   "source": [
    "### Model 1: Linear Regression"
   ]
  },
  {
   "cell_type": "code",
   "execution_count": 668,
   "id": "297cc0c7",
   "metadata": {},
   "outputs": [
    {
     "name": "stdout",
     "output_type": "stream",
     "text": [
      "\u001b[1mPrediction with G1/G2: \u001b[0m [-1.59155239  9.71398236]\n",
      "\u001b[1mPrediction without G1/G2: \u001b[0m [ 7.84391824 11.9847682 ]\n",
      "\u001b[1mG3 score to be predicted: \u001b[0m [ 0 11]\n"
     ]
    }
   ],
   "source": [
    "# importing LinearRegression from sklearn library\n",
    "from sklearn.linear_model import LinearRegression\n",
    "\n",
    "# create two linear regression instances for both datasets\n",
    "lin_reg1 = LinearRegression()\n",
    "lin_reg2 = LinearRegression()\n",
    "\n",
    "# fitting models to both datasets\n",
    "lin_reg1.fit(X_train_prep1, y_train)\n",
    "lin_reg2.fit(X_train_prep2, y_train)\n",
    "\n",
    "# making predictions based on both datasets\n",
    "lin_reg1_pred = lin_reg1.predict(X_train_prep1)\n",
    "lin_reg2_pred = lin_reg2.predict(X_train_prep2)\n",
    "\n",
    "# printing out first two predictions and the actual value to be predicted\n",
    "print('\\033[1m' + \"Prediction with G1/G2: \" + '\\033[0m', lin_reg1_pred[:2])\n",
    "print('\\033[1m' + \"Prediction without G1/G2: \" + '\\033[0m', lin_reg2_pred[:2])\n",
    "print('\\033[1m' + \"G3 score to be predicted: \" + '\\033[0m', y_train[:2].values)"
   ]
  },
  {
   "cell_type": "code",
   "execution_count": 669,
   "id": "6e2a16ca",
   "metadata": {},
   "outputs": [
    {
     "name": "stdout",
     "output_type": "stream",
     "text": [
      "\u001b[1mCross Validation First Model:\u001b[0m\n",
      "count    10.000000\n",
      "mean      1.869872\n",
      "std       0.581119\n",
      "min       0.995565\n",
      "25%       1.498950\n",
      "50%       1.874812\n",
      "75%       2.189971\n",
      "max       2.900091\n",
      "dtype: float64\n",
      "\n",
      "\u001b[1mCross Validation Second Model:\u001b[0m\n",
      "count    10.000000\n",
      "mean      4.286439\n",
      "std       0.666427\n",
      "min       3.420249\n",
      "25%       3.770402\n",
      "50%       4.157691\n",
      "75%       4.855380\n",
      "max       5.323545\n",
      "dtype: float64\n"
     ]
    }
   ],
   "source": [
    "# importing cros_val_score from sklearn\n",
    "from sklearn.model_selection import cross_val_score\n",
    "\n",
    "# getting cross val scores for both models with a cv of 10\n",
    "lin_reg_rmses1 = -cross_val_score(lin_reg1, X_train_prep1, y_train,\n",
    "                              scoring=\"neg_root_mean_squared_error\", cv=10)\n",
    "\n",
    "lin_reg_rmses2 = -cross_val_score(lin_reg2, X_train_prep2, y_train,\n",
    "                              scoring=\"neg_root_mean_squared_error\", cv=10)\n",
    "\n",
    "# printing descriptive statistics of both cross val scores\n",
    "print('\\033[1m' + \"Cross Validation First Model:\" + '\\033[0m')\n",
    "print(pd.Series(lin_reg_rmses1).describe())\n",
    "print()\n",
    "print('\\033[1m' + \"Cross Validation Second Model:\" + '\\033[0m')\n",
    "print(pd.Series(lin_reg_rmses2).describe())\n",
    "\n",
    "#Saving mean RMSE scores for both models\n",
    "lin_reg_rmses1_mean = pd.Series(lin_reg_rmses1).mean()\n",
    "lin_reg_rmses2_mean = pd.Series(lin_reg_rmses2).mean()"
   ]
  },
  {
   "cell_type": "markdown",
   "id": "bb2a95e9",
   "metadata": {},
   "source": [
    "With the Linear Regression model, we can see that the model with \"G1\" and \"G2\" was able to predict the first two \"G3\" grades correctly. The cross validation with the \"G1\" and \"G2\" features had a lower mean RMSE score."
   ]
  },
  {
   "cell_type": "markdown",
   "id": "b4e68eff",
   "metadata": {},
   "source": [
    "### Model 2: Ridge Regression"
   ]
  },
  {
   "cell_type": "code",
   "execution_count": 670,
   "id": "35b1034b",
   "metadata": {},
   "outputs": [
    {
     "name": "stdout",
     "output_type": "stream",
     "text": [
      "\u001b[1mPrediction with G1/G2: \u001b[0m [-1.58771283  9.71445768]\n",
      "\u001b[1mPrediction without G1/G2: \u001b[0m [ 7.84216682 11.98397692]\n",
      "\u001b[1mG3 score to be predicted: \u001b[0m [ 0 11]\n"
     ]
    }
   ],
   "source": [
    "# importing Ridge from sklearn\n",
    "from sklearn.linear_model import Ridge\n",
    "\n",
    "# create two Ridge Regression instance for both datasets with alpha of 0.1 and with a cholesky solver\n",
    "ridge_reg1 = Ridge(alpha = 0.1, solver = \"cholesky\")\n",
    "ridge_reg2 = Ridge(alpha = 0.1, solver = \"cholesky\")\n",
    "\n",
    "# fitting models to both datasets\n",
    "ridge_reg1.fit(X_train_prep1, y_train)\n",
    "ridge_reg2.fit(X_train_prep2, y_train)\n",
    "\n",
    "# making predictions based on both datasets\n",
    "ridge_reg1_pred = ridge_reg1.predict(X_train_prep1)\n",
    "ridge_reg2_pred = ridge_reg2.predict(X_train_prep2)\n",
    "\n",
    "# printing out first two predictions and the actual value to be predicted\n",
    "print('\\033[1m' + \"Prediction with G1/G2: \" + '\\033[0m', ridge_reg1_pred[:2])\n",
    "print('\\033[1m' + \"Prediction without G1/G2: \" + '\\033[0m', ridge_reg2_pred[:2])\n",
    "print('\\033[1m' + \"G3 score to be predicted: \" + '\\033[0m', y_train[:2].values)"
   ]
  },
  {
   "cell_type": "code",
   "execution_count": 671,
   "id": "82db5f2c",
   "metadata": {},
   "outputs": [
    {
     "name": "stdout",
     "output_type": "stream",
     "text": [
      "\u001b[1mCross Validation First Model:\u001b[0m\n",
      "count    10.000000\n",
      "mean      1.869710\n",
      "std       0.581121\n",
      "min       0.995343\n",
      "25%       1.498710\n",
      "50%       1.874599\n",
      "75%       2.189989\n",
      "max       2.899921\n",
      "dtype: float64\n",
      "\n",
      "\u001b[1mCross Validation Second Model:\u001b[0m\n",
      "count    10.000000\n",
      "mean      4.286181\n",
      "std       0.666623\n",
      "min       3.418972\n",
      "25%       3.769880\n",
      "50%       4.157551\n",
      "75%       4.855212\n",
      "max       5.323326\n",
      "dtype: float64\n"
     ]
    }
   ],
   "source": [
    "# getting cross val scores for both models with a cv of 10\n",
    "ridge_rmses1 = -cross_val_score(ridge_reg1, X_train_prep1, y_train,\n",
    "                              scoring=\"neg_root_mean_squared_error\", cv=10)\n",
    "\n",
    "ridge_rmses2 = -cross_val_score(ridge_reg2, X_train_prep2, y_train,\n",
    "                              scoring=\"neg_root_mean_squared_error\", cv=10)\n",
    "\n",
    "# printing descriptive statistics of both cross val scores\n",
    "print('\\033[1m' + \"Cross Validation First Model:\" + '\\033[0m')\n",
    "print(pd.Series(ridge_rmses1).describe())\n",
    "print()\n",
    "print('\\033[1m' + \"Cross Validation Second Model:\" + '\\033[0m')\n",
    "print(pd.Series(ridge_rmses2).describe())\n",
    "\n",
    "#Saving mean RMSE scores for both models\n",
    "ridge_rmses1_mean = pd.Series(ridge_rmses1).mean()\n",
    "ridge_rmses2_mean = pd.Series(ridge_rmses2).mean()"
   ]
  },
  {
   "cell_type": "markdown",
   "id": "6ca51920",
   "metadata": {},
   "source": [
    "With the Ridge Regression model, we can see that the model with \"G1\" and \"G2\" was able to predict the first two \"G3\" grades correctly and that the mean RMSE score was lower for the models with \"G1\" and \"G2\"."
   ]
  },
  {
   "cell_type": "markdown",
   "id": "63bf9358",
   "metadata": {},
   "source": [
    "### Model 3: Lasso Regression"
   ]
  },
  {
   "cell_type": "code",
   "execution_count": 672,
   "id": "fb08fb48",
   "metadata": {},
   "outputs": [
    {
     "name": "stdout",
     "output_type": "stream",
     "text": [
      "\u001b[1mPrediction with G1/G2: \u001b[0m [-1.06839312  9.60611294]\n",
      "\u001b[1mPrediction without G1/G2: \u001b[0m [ 7.72548244 11.7536061 ]\n",
      "\u001b[1mG3 score to be predicted: \u001b[0m [ 0 11]\n"
     ]
    }
   ],
   "source": [
    "# importing Lasso from sklearn\n",
    "from sklearn.linear_model import Lasso\n",
    "\n",
    "# create two instances of Lasso Regression for both datasets using an alpha of .01\n",
    "lasso_reg1 = Lasso(alpha=0.1)\n",
    "lasso_reg2 = Lasso(alpha=0.1)\n",
    "\n",
    "# fitting models to both datasets\n",
    "lasso_reg1.fit(X_train_prep1, y_train)\n",
    "lasso_reg2.fit(X_train_prep2, y_train)\n",
    "\n",
    "# making predictions based on both datasets\n",
    "lasso_reg1_pred = lasso_reg1.predict(X_train_prep1)\n",
    "lasso_reg2_pred = lasso_reg2.predict(X_train_prep2)\n",
    "\n",
    "# printing out first two predictions and the actual value to be predicted\n",
    "print('\\033[1m' + \"Prediction with G1/G2: \" + '\\033[0m', lasso_reg1_pred[:2])\n",
    "print('\\033[1m' + \"Prediction without G1/G2: \" + '\\033[0m', lasso_reg2_pred[:2])\n",
    "print('\\033[1m' + \"G3 score to be predicted: \" + '\\033[0m', y_train[:2].values)"
   ]
  },
  {
   "cell_type": "code",
   "execution_count": 673,
   "id": "f3d12018",
   "metadata": {},
   "outputs": [
    {
     "name": "stdout",
     "output_type": "stream",
     "text": [
      "\u001b[1mCross Validation First Model:\u001b[0m\n",
      "count    10.000000\n",
      "mean      1.839582\n",
      "std       0.650055\n",
      "min       0.862542\n",
      "25%       1.448459\n",
      "50%       1.846011\n",
      "75%       2.261082\n",
      "max       2.997070\n",
      "dtype: float64\n",
      "\n",
      "\u001b[1mCross Validation Second Model:\u001b[0m\n",
      "count    10.000000\n",
      "mean      4.259666\n",
      "std       0.687002\n",
      "min       3.172364\n",
      "25%       3.747313\n",
      "50%       4.151537\n",
      "75%       4.835547\n",
      "max       5.193687\n",
      "dtype: float64\n"
     ]
    }
   ],
   "source": [
    "# getting cross val scores for both models with a cv of 10\n",
    "lasso_rmses1 = -cross_val_score(lasso_reg1, X_train_prep1, y_train,\n",
    "                              scoring=\"neg_root_mean_squared_error\", cv=10)\n",
    "\n",
    "lasso_rmses2 = -cross_val_score(lasso_reg2, X_train_prep2, y_train,\n",
    "                              scoring=\"neg_root_mean_squared_error\", cv=10)\n",
    "# printing descriptive statistics of both cross val scores\n",
    "print('\\033[1m' + \"Cross Validation First Model:\" + '\\033[0m')\n",
    "print(pd.Series(lasso_rmses1).describe())\n",
    "print()\n",
    "print('\\033[1m' + \"Cross Validation Second Model:\" + '\\033[0m')\n",
    "print(pd.Series(lasso_rmses2).describe())\n",
    "\n",
    "#Saving mean RMSE scores for both models\n",
    "lasso_rmses1_mean = pd.Series(lasso_rmses1).mean()\n",
    "lasso_rmses2_mean = pd.Series(lasso_rmses2).mean()"
   ]
  },
  {
   "cell_type": "markdown",
   "id": "187cb98a",
   "metadata": {},
   "source": [
    "With the Lasso Regression model, the model with \"G1\" and \"G2\" correctly predicted the first two \"G3\" grades correctly and had a smaller RMSE mean value."
   ]
  },
  {
   "cell_type": "markdown",
   "id": "a9769e88",
   "metadata": {},
   "source": [
    "### Comparing Models"
   ]
  },
  {
   "cell_type": "code",
   "execution_count": 674,
   "id": "be9233bf",
   "metadata": {},
   "outputs": [
    {
     "name": "stdout",
     "output_type": "stream",
     "text": [
      "\u001b[1mMean RMSE Scores for Linear Regression with G1/G2 and Without:\u001b[0m\n",
      "1.8698723230025565 | 4.286438754225208\n",
      "\n",
      "\u001b[1mMean RMSE Scores for Ridge Regression with G1/G2 and Without:\u001b[0m\n",
      "1.8697097627295751 | 4.286180566095508\n",
      "\n",
      "\u001b[1mMean RMSE Scores for Lasso Regression with G1/G2 and Without:\u001b[0m\n",
      "1.8395817038454474 | 4.259665689548929\n"
     ]
    }
   ],
   "source": [
    "# printing Mean RMSE Scores for all of the models\n",
    "print('\\033[1m' + \"Mean RMSE Scores for Linear Regression with G1/G2 and Without:\" + '\\033[0m')\n",
    "print(lin_reg_rmses1_mean, lin_reg_rmses2_mean, sep = \" | \")\n",
    "print()\n",
    "print('\\033[1m' + \"Mean RMSE Scores for Ridge Regression with G1/G2 and Without:\" + '\\033[0m')\n",
    "print(ridge_rmses1_mean, ridge_rmses2_mean, sep = \" | \")\n",
    "print()\n",
    "print('\\033[1m' + \"Mean RMSE Scores for Lasso Regression with G1/G2 and Without:\" + '\\033[0m')\n",
    "print(lasso_rmses1_mean, lasso_rmses2_mean, sep = \" | \")"
   ]
  },
  {
   "cell_type": "markdown",
   "id": "a81d42c8",
   "metadata": {},
   "source": [
    "Comparing the predictions made from all the regression models with both datasets, we can conclude that the dataset with the \"G1\" and \"G2\" features were more accurate then the models without those two features. Comparing the cross validations of the models, the ones with the \"G1\" and \"G2\" features had a significantly smaller mean RMSE score.\n",
    "\n",
    "We can come to the conclusion that the final model will contain a dataset with the \"G1\" and \"G2\" features."
   ]
  },
  {
   "cell_type": "markdown",
   "id": "861fcee1",
   "metadata": {},
   "source": [
    "When comparing the models that had the \"G1\" and \"G2\" features, from an eye test we can see that they all closely predicted the G3 score. To distinguish each model we can look at the mean RMSE scores. The model with the smaller mean RMSE score was the Lasso Regression. Because of this, the final model will use a Lasso Regression."
   ]
  },
  {
   "cell_type": "markdown",
   "id": "f1154502",
   "metadata": {},
   "source": [
    "## Fine-Tune the System"
   ]
  },
  {
   "cell_type": "markdown",
   "id": "54228265",
   "metadata": {},
   "source": [
    "### Grid Search"
   ]
  },
  {
   "cell_type": "code",
   "execution_count": 675,
   "id": "3bd772ef",
   "metadata": {},
   "outputs": [
    {
     "data": {
      "text/html": [
       "<style>#sk-container-id-19 {color: black;}#sk-container-id-19 pre{padding: 0;}#sk-container-id-19 div.sk-toggleable {background-color: white;}#sk-container-id-19 label.sk-toggleable__label {cursor: pointer;display: block;width: 100%;margin-bottom: 0;padding: 0.3em;box-sizing: border-box;text-align: center;}#sk-container-id-19 label.sk-toggleable__label-arrow:before {content: \"▸\";float: left;margin-right: 0.25em;color: #696969;}#sk-container-id-19 label.sk-toggleable__label-arrow:hover:before {color: black;}#sk-container-id-19 div.sk-estimator:hover label.sk-toggleable__label-arrow:before {color: black;}#sk-container-id-19 div.sk-toggleable__content {max-height: 0;max-width: 0;overflow: hidden;text-align: left;background-color: #f0f8ff;}#sk-container-id-19 div.sk-toggleable__content pre {margin: 0.2em;color: black;border-radius: 0.25em;background-color: #f0f8ff;}#sk-container-id-19 input.sk-toggleable__control:checked~div.sk-toggleable__content {max-height: 200px;max-width: 100%;overflow: auto;}#sk-container-id-19 input.sk-toggleable__control:checked~label.sk-toggleable__label-arrow:before {content: \"▾\";}#sk-container-id-19 div.sk-estimator input.sk-toggleable__control:checked~label.sk-toggleable__label {background-color: #d4ebff;}#sk-container-id-19 div.sk-label input.sk-toggleable__control:checked~label.sk-toggleable__label {background-color: #d4ebff;}#sk-container-id-19 input.sk-hidden--visually {border: 0;clip: rect(1px 1px 1px 1px);clip: rect(1px, 1px, 1px, 1px);height: 1px;margin: -1px;overflow: hidden;padding: 0;position: absolute;width: 1px;}#sk-container-id-19 div.sk-estimator {font-family: monospace;background-color: #f0f8ff;border: 1px dotted black;border-radius: 0.25em;box-sizing: border-box;margin-bottom: 0.5em;}#sk-container-id-19 div.sk-estimator:hover {background-color: #d4ebff;}#sk-container-id-19 div.sk-parallel-item::after {content: \"\";width: 100%;border-bottom: 1px solid gray;flex-grow: 1;}#sk-container-id-19 div.sk-label:hover label.sk-toggleable__label {background-color: #d4ebff;}#sk-container-id-19 div.sk-serial::before {content: \"\";position: absolute;border-left: 1px solid gray;box-sizing: border-box;top: 0;bottom: 0;left: 50%;z-index: 0;}#sk-container-id-19 div.sk-serial {display: flex;flex-direction: column;align-items: center;background-color: white;padding-right: 0.2em;padding-left: 0.2em;position: relative;}#sk-container-id-19 div.sk-item {position: relative;z-index: 1;}#sk-container-id-19 div.sk-parallel {display: flex;align-items: stretch;justify-content: center;background-color: white;position: relative;}#sk-container-id-19 div.sk-item::before, #sk-container-id-19 div.sk-parallel-item::before {content: \"\";position: absolute;border-left: 1px solid gray;box-sizing: border-box;top: 0;bottom: 0;left: 50%;z-index: -1;}#sk-container-id-19 div.sk-parallel-item {display: flex;flex-direction: column;z-index: 1;position: relative;background-color: white;}#sk-container-id-19 div.sk-parallel-item:first-child::after {align-self: flex-end;width: 50%;}#sk-container-id-19 div.sk-parallel-item:last-child::after {align-self: flex-start;width: 50%;}#sk-container-id-19 div.sk-parallel-item:only-child::after {width: 0;}#sk-container-id-19 div.sk-dashed-wrapped {border: 1px dashed gray;margin: 0 0.4em 0.5em 0.4em;box-sizing: border-box;padding-bottom: 0.4em;background-color: white;}#sk-container-id-19 div.sk-label label {font-family: monospace;font-weight: bold;display: inline-block;line-height: 1.2em;}#sk-container-id-19 div.sk-label-container {text-align: center;}#sk-container-id-19 div.sk-container {/* jupyter's `normalize.less` sets `[hidden] { display: none; }` but bootstrap.min.css set `[hidden] { display: none !important; }` so we also need the `!important` here to be able to override the default hidden behavior on the sphinx rendered scikit-learn.org. See: https://github.com/scikit-learn/scikit-learn/issues/21755 */display: inline-block !important;position: relative;}#sk-container-id-19 div.sk-text-repr-fallback {display: none;}</style><div id=\"sk-container-id-19\" class=\"sk-top-container\"><div class=\"sk-text-repr-fallback\"><pre>GridSearchCV(cv=5, estimator=Lasso(alpha=0.1),\n",
       "             param_grid=[{&#x27;alpha&#x27;: [0.001, 0.01, 0.1, 0.2, 1]}],\n",
       "             return_train_score=True, scoring=&#x27;neg_mean_squared_error&#x27;)</pre><b>In a Jupyter environment, please rerun this cell to show the HTML representation or trust the notebook. <br />On GitHub, the HTML representation is unable to render, please try loading this page with nbviewer.org.</b></div><div class=\"sk-container\" hidden><div class=\"sk-item sk-dashed-wrapped\"><div class=\"sk-label-container\"><div class=\"sk-label sk-toggleable\"><input class=\"sk-toggleable__control sk-hidden--visually\" id=\"sk-estimator-id-32\" type=\"checkbox\" ><label for=\"sk-estimator-id-32\" class=\"sk-toggleable__label sk-toggleable__label-arrow\">GridSearchCV</label><div class=\"sk-toggleable__content\"><pre>GridSearchCV(cv=5, estimator=Lasso(alpha=0.1),\n",
       "             param_grid=[{&#x27;alpha&#x27;: [0.001, 0.01, 0.1, 0.2, 1]}],\n",
       "             return_train_score=True, scoring=&#x27;neg_mean_squared_error&#x27;)</pre></div></div></div><div class=\"sk-parallel\"><div class=\"sk-parallel-item\"><div class=\"sk-item\"><div class=\"sk-label-container\"><div class=\"sk-label sk-toggleable\"><input class=\"sk-toggleable__control sk-hidden--visually\" id=\"sk-estimator-id-33\" type=\"checkbox\" ><label for=\"sk-estimator-id-33\" class=\"sk-toggleable__label sk-toggleable__label-arrow\">estimator: Lasso</label><div class=\"sk-toggleable__content\"><pre>Lasso(alpha=0.1)</pre></div></div></div><div class=\"sk-serial\"><div class=\"sk-item\"><div class=\"sk-estimator sk-toggleable\"><input class=\"sk-toggleable__control sk-hidden--visually\" id=\"sk-estimator-id-34\" type=\"checkbox\" ><label for=\"sk-estimator-id-34\" class=\"sk-toggleable__label sk-toggleable__label-arrow\">Lasso</label><div class=\"sk-toggleable__content\"><pre>Lasso(alpha=0.1)</pre></div></div></div></div></div></div></div></div></div></div>"
      ],
      "text/plain": [
       "GridSearchCV(cv=5, estimator=Lasso(alpha=0.1),\n",
       "             param_grid=[{'alpha': [0.001, 0.01, 0.1, 0.2, 1]}],\n",
       "             return_train_score=True, scoring='neg_mean_squared_error')"
      ]
     },
     "execution_count": 675,
     "metadata": {},
     "output_type": "execute_result"
    }
   ],
   "source": [
    "# import GridSrachCv from sklearn\n",
    "from sklearn.model_selection import GridSearchCV\n",
    "\n",
    "# create parameter grid for alpha values\n",
    "param_grid = [\n",
    "    {'alpha': [0.001, .01, .1, .2, 1]}\n",
    "]\n",
    "\n",
    "# create grid search instance for the lasso regression\n",
    "grid_search = GridSearchCV(lasso_reg1, param_grid, cv=5,\n",
    "                          scoring = 'neg_mean_squared_error',\n",
    "                          return_train_score=True)\n",
    "\n",
    "# fit grid search to training data\n",
    "grid_search.fit(X_train_prep1, y_train)"
   ]
  },
  {
   "cell_type": "code",
   "execution_count": 676,
   "id": "2d527788",
   "metadata": {},
   "outputs": [
    {
     "data": {
      "text/plain": [
       "{'alpha': 0.1}"
      ]
     },
     "execution_count": 676,
     "metadata": {},
     "output_type": "execute_result"
    }
   ],
   "source": [
    "# best alpha value based on grid search\n",
    "grid_search.best_params_"
   ]
  },
  {
   "cell_type": "code",
   "execution_count": 677,
   "id": "8ba4e316",
   "metadata": {},
   "outputs": [
    {
     "name": "stdout",
     "output_type": "stream",
     "text": [
      "-3.8108408945776375 {'alpha': 0.001}\n",
      "-3.792946260180078 {'alpha': 0.01}\n",
      "-3.7302250090872002 {'alpha': 0.1}\n",
      "-3.7775889090420547 {'alpha': 0.2}\n",
      "-4.846796447528418 {'alpha': 1}\n"
     ]
    }
   ],
   "source": [
    "# printing out mean scores of grid search with corresponding alpha values\n",
    "cvres = grid_search.cv_results_\n",
    "for mean_score, params in zip(cvres[\"mean_test_score\"], cvres[\"params\"]):\n",
    "    print(mean_score, params)"
   ]
  },
  {
   "cell_type": "markdown",
   "id": "04609b9a",
   "metadata": {},
   "source": [
    "We used one grid search with a parameter grid with alpha values of .0001, .01, .1, .2, and 1 and fit it to the data. The grid search found that an alpha value of .1 was the best parameter."
   ]
  },
  {
   "cell_type": "markdown",
   "id": "821e08f0",
   "metadata": {},
   "source": [
    "### Final Model Selection "
   ]
  },
  {
   "cell_type": "code",
   "execution_count": 678,
   "id": "d3ddc893",
   "metadata": {},
   "outputs": [],
   "source": [
    "# select final model and measure performance on the test set\n",
    "final_model = grid_search.best_estimator_"
   ]
  },
  {
   "cell_type": "markdown",
   "id": "5a4ef275",
   "metadata": {},
   "source": [
    "### Transform Test Data"
   ]
  },
  {
   "cell_type": "code",
   "execution_count": 679,
   "id": "dc2ddc2e",
   "metadata": {},
   "outputs": [
    {
     "data": {
      "text/plain": [
       "array([[ 1.51841607,  1.12218892,  0.21224796, ...,  1.        ,\n",
       "         0.        ,  0.        ],\n",
       "       [ 0.01710356,  0.33182109,  1.1186041 , ...,  1.        ,\n",
       "         0.        ,  0.        ],\n",
       "       [-1.18394645, -1.77582644, -0.69410819, ...,  1.        ,\n",
       "         0.        ,  1.        ],\n",
       "       ...,\n",
       "       [-0.88368394, -0.98545862, -1.60046433, ...,  1.        ,\n",
       "         0.        ,  0.        ],\n",
       "       [-0.28315894,  0.33182109,  1.1186041 , ...,  1.        ,\n",
       "         0.        ,  1.        ],\n",
       "       [-0.88368394, -0.72200268, -1.60046433, ...,  1.        ,\n",
       "         0.        ,  1.        ]])"
      ]
     },
     "execution_count": 679,
     "metadata": {},
     "output_type": "execute_result"
    }
   ],
   "source": [
    "# transform test data with column names of training data\n",
    "X_test_new = X_test[col_names]\n",
    "X_test_prep = preprocessing1.transform(X_test_new)\n",
    "final_predictions = final_model.predict(X_test_prep)\n",
    "X_test_prep"
   ]
  },
  {
   "cell_type": "markdown",
   "id": "99b4e2b3",
   "metadata": {},
   "source": [
    "### Final Model Performance"
   ]
  },
  {
   "cell_type": "code",
   "execution_count": 680,
   "id": "d46880dc",
   "metadata": {},
   "outputs": [
    {
     "name": "stdout",
     "output_type": "stream",
     "text": [
      "\u001b[1mCross Validation Final Model:\u001b[0m\n",
      "count    10.000000\n",
      "mean      1.839582\n",
      "std       0.650055\n",
      "min       0.862542\n",
      "25%       1.448459\n",
      "50%       1.846011\n",
      "75%       2.261082\n",
      "max       2.997070\n",
      "dtype: float64\n"
     ]
    }
   ],
   "source": [
    "# get final cross val score\n",
    "final_rmses = -cross_val_score(final_model, X_test_prep, y_test,\n",
    "                              scoring=\"neg_root_mean_squared_error\", cv=10)\n",
    "print('\\033[1m' + \"Cross Validation Final Model:\" + '\\033[0m')\n",
    "print(pd.Series(lasso_rmses1).describe())"
   ]
  },
  {
   "cell_type": "markdown",
   "id": "f3cb65f9",
   "metadata": {},
   "source": [
    "The test data set was fit with the features that were selected for the training data.\n",
    "\n",
    "The final model was selected using the best parameters from the grid search.\n",
    "\n",
    "The test data was transformed using the Column transformer and pipeline that the training data used.\n",
    "\n",
    "Predictions were made using the new prepped data and the final model.\n",
    "\n",
    "A final cross validation was ran and it contained a low mean RMSE value."
   ]
  },
  {
   "cell_type": "markdown",
   "id": "d5728cad",
   "metadata": {},
   "source": [
    "## Analytical Insights"
   ]
  },
  {
   "cell_type": "code",
   "execution_count": 681,
   "id": "f0627a84",
   "metadata": {},
   "outputs": [
    {
     "data": {
      "image/png": "[encoded data removed]",
      "text/plain": [
       "<Figure size 1000x600 with 1 Axes>"
      ]
     },
     "metadata": {},
     "output_type": "display_data"
    }
   ],
   "source": [
    "# plotting y-test values and final_predictions\n",
    "plt.figure(figsize=(10, 6))\n",
    "plt.scatter(y_test, final_predictions, color='orange', label='Predicted vs Actual G3 Scores')\n",
    "plt.plot([y_test.min(), y_test.max()], [y_test.min(), y_test.max()], color='blue', linewidth=2, label='Regression Line')\n",
    "plt.title('Lasso Regression: Predicted G3 Scores vs Actual G3 Scores')\n",
    "plt.xlabel('Actual G3 Scores')\n",
    "plt.ylabel('Predicted G3 Scores')\n",
    "plt.legend()\n",
    "plt.show()"
   ]
  },
  {
   "cell_type": "markdown",
   "id": "ebbd9fdd",
   "metadata": {},
   "source": [
    "We had some outliers in the predicted values with the predicted values being unable to predict 0 as an actual value for a \"G3\" term grade, but as we can see from the chart that the Lasso Regression was able to accurately predict \"G3\" term grades. A student's \"G1\" and \"G2\" term grades are statistically significant in predicting \"G3\" term grades.\n",
    "\n",
    "The features that I selected based on how they correlated to \"G1\" and \"G2\" seemed to be good features to include to predict \"G3\" term grades.\n",
    "\n",
    "If the dataset had more rows then the model would've been more accurate. There could've been other features that were not included in the dataset that could've been useful like scores in individual class subjects, rating of their ability to read/write, ability to speak another language, or if they took higher level classes like honor or AP classes."
   ]
  },
  {
   "cell_type": "markdown",
   "id": "0d273869",
   "metadata": {},
   "source": [
    "## Conclusion"
   ]
  },
  {
   "cell_type": "markdown",
   "id": "4b004d48",
   "metadata": {},
   "source": [
    "The school disctrict would like to predict the grades in the third term using historical and demographic data of its students. We used information about many features of the students lives and machine learning techniques to create models to predict the third term grades of students. This is useful because we are now able to predict a students third term grade based on past data and we can supplement the students accordingly to increase the likelihood that the student will achieve a higher third term grade than they would've otherwise. Hopefully, the model can be used as a template for supplementing students accordingly, so they can achieve high G3 term scores.\n",
    "\n",
    "The model that was created alligns with the business objective of predicting G3 term scores. With this model the school district can accurately predict their student's G3 term scores which will allow them to make business decisions to create an optimal learning environemt for their students. The model shouldn't be used as exact predictions of what score a student will achieve in their G3 term. There are many variables that are not included in the dataset that could influence a students score. The predictions made with the model should be used as a template for future students, not as a label for what a student will score."
   ]
  },
  {
   "cell_type": "markdown",
   "id": "946d469a",
   "metadata": {},
   "source": [
    "This project was successful because of how features were selected, the pipelines and column transformers used, and the results of the grid search. Using the correlations as a parameter for feature selection made it so the model used statistically significant features. The pipelines and column transformers transformed the data so the features that were used in the regression would be optimized. The grid search fine-tuned the hyper parameters which made the model optimized for success.\n",
    "\n",
    "There were still some outliers with the predicted values in the final model. This could be because there weren't enough significant features used in the model. To fix this more significant features could be included in the dataset that can be used in training the model. More histroical data would also help improve the models accuracy.\n",
    "\n",
    "Next steps in this task would be to try using G1 term grades as the target label since more students were not absent during that time or to not sum the absences as absences throughout all three terms. This is because two students who missed the same amount of days in all three terms would be thought of as the same, but if one of those students missed more days in G1 and the other in G3, that would impact their G3 term scores. The data in the data set could be used to predict standardized test scores that are used to enroll into schools for higher education. A model could be made in the future that predicts these test scores for the students enrolled in the school district."
   ]
  }
 ],
 "metadata": {
  "kernelspec": {
   "display_name": "Python 3 (ipykernel)",
   "language": "python",
   "name": "python3"
  },
  "language_info": {
   "codemirror_mode": {
    "name": "ipython",
    "version": 3
   },
   "file_extension": ".py",
   "mimetype": "text/x-python",
   "name": "python",
   "nbconvert_exporter": "python",
   "pygments_lexer": "ipython3",
   "version": "3.11.4"
  }
 },
 "nbformat": 4,
 "nbformat_minor": 5
}
